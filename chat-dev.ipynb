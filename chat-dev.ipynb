{
 "cells": [
  {
   "cell_type": "code",
   "execution_count": 27,
   "metadata": {},
   "outputs": [
    {
     "data": {
      "text/plain": [
       "True"
      ]
     },
     "execution_count": 27,
     "metadata": {},
     "output_type": "execute_result"
    }
   ],
   "source": [
    "import json\n",
    "import os\n",
    "from pathlib import Path\n",
    "\n",
    "import yaml\n",
    "from dotenv import find_dotenv, load_dotenv\n",
    "from openai import OpenAI\n",
    "from qdrant_client import QdrantClient\n",
    "\n",
    "from database.utils import embed_text, get_context, search\n",
    "\n",
    "load_dotenv(find_dotenv())"
   ]
  },
  {
   "cell_type": "code",
   "execution_count": 2,
   "metadata": {},
   "outputs": [],
   "source": [
    "config_path = Path(\"./config.yaml\")\n",
    "with config_path.open(\"r\") as file:\n",
    "    config = yaml.safe_load(file)"
   ]
  },
  {
   "cell_type": "markdown",
   "metadata": {},
   "source": [
    "Create a OpenAI client"
   ]
  },
  {
   "cell_type": "code",
   "execution_count": 3,
   "metadata": {},
   "outputs": [],
   "source": [
    "qdrant_client = QdrantClient(\n",
    "    url=os.environ[\"QDRANT_CLUSTER_URL\"],\n",
    "    api_key=os.environ[\"QDRANT_API_KEY\"],\n",
    ")\n",
    "\n",
    "openai_client = OpenAI(api_key=os.environ[\"OPENAI_API_KEY\"])"
   ]
  },
  {
   "cell_type": "markdown",
   "metadata": {},
   "source": [
    "Prompts"
   ]
  },
  {
   "cell_type": "code",
   "execution_count": 17,
   "metadata": {},
   "outputs": [],
   "source": [
    "system_prompt = \"\"\"\n",
    "Vi ste koristan asistent koji može da odgovori isključivo na pitanja vezana za pravne teme. \n",
    "Molimo vas da prilikom razgovora sa klijentom koristite jasan i direktan jezik kako bi informacije bile lako razumljive. \n",
    "Vaš zadatak je da identifikujete potrebe klijenta i na osnovu toga pružite najrelevantnije informacije. \n",
    "Kada pružate odgovore ili savete, naglasite iz kojeg tačno pravnog člana dolazi informacija i obezbedite link ka tom članu kako bi klijent mogao dodatno da se informiše. \n",
    "Cilj je da komunikacija bude efikasna i da klijent oseti da je u dobrim rukama.\n",
    "\n",
    "- Razgovarajte jasno i poentirano.\n",
    "- Identifikujte ključne informacije koje klijent traži.\n",
    "- Koristite informacije samo iz pravnih članova datih u kontekstu.\n",
    "- Primarni izvor odgovora treba da budu odredbe članova 1 do 287, jer su oni važeći u trenutku kada Vi dajete odgovor. Ako se pitanje korisnika odnosi na samostalne članove Zakona o radu koji se nalaze u zakonu posle člana 287, potrebno je da odgovorite da možete da pružate informacije samo o trenutno važećim verzijama propisa i da niste u mogućnosti da pružite pouzdan odgovor.\n",
    "- Uvek navedite izvor informacija i pružite link ka članu ili članovima.\n",
    "- Odgovorite na pitanje klijenta samo ukoliko imate tačnu informaciju o odgovoru, u suprotnom ljubazno se izvinite i uputite klijenta da se obrati advokatu Anji Berić (https://www.linkedin.com/in/anja-beric-150285vb/).\n",
    "- Zapamtite da je vaša uloga da olakšate klijentu razumevanje pravnih procedura i da mu pružite korisne i tačne informacije.\n",
    "\"\"\"\n",
    "\n",
    "context_prompt = \"\"\"\n",
    "KONTEKST:\n",
    "\n",
    "{context}\n",
    "\n",
    "\"\"\"\n",
    "\n",
    "query_prompt = \"\"\"\n",
    "Pitanje klijenta: {query}\n",
    "\"\"\""
   ]
  },
  {
   "cell_type": "markdown",
   "metadata": {},
   "source": [
    "Retrive context"
   ]
  },
  {
   "cell_type": "code",
   "execution_count": 5,
   "metadata": {},
   "outputs": [],
   "source": [
    "tests_path = \"./database/test_queries.json\"\n",
    "with open(tests_path, \"r\", encoding=\"utf-8\") as file:\n",
    "    test_samples = json.loads(file.read())"
   ]
  },
  {
   "cell_type": "code",
   "execution_count": 28,
   "metadata": {},
   "outputs": [],
   "source": [
    "# query = test_samples[\"hard\"][3][\"query\"]\n",
    "# embedding = test_samples[\"hard\"][3][\"embedding\"]\n",
    "query = \"Kako se odredbe Zakona o radu u vezi porodiljskog odsustva primenjuju na žene koje su započele korišćenje porodiljskog odsustva 2005. godine?\"\n",
    "embedding_response = embed_text(\n",
    "    client=openai_client, text=query, model=config[\"openai\"][\"embedding_model\"][\"name\"]\n",
    ")\n",
    "embedding = embedding_response.data[0].embedding\n",
    "\n",
    "search_results = search(\n",
    "    client=qdrant_client,\n",
    "    collection=config[\"collection\"][\"name\"],\n",
    "    query_vector=embedding,\n",
    "    limit=5,\n",
    "    with_vectors=True,\n",
    ")\n",
    "context = get_context(search_results=search_results)"
   ]
  },
  {
   "cell_type": "code",
   "execution_count": 29,
   "metadata": {},
   "outputs": [
    {
     "name": "stdout",
     "output_type": "stream",
     "text": [
      "User Query: Kako se odredbe Zakona o radu u vezi porodiljskog odsustva primenjuju na žene koje su započele korišćenje porodiljskog odsustva 2005. godine?\n",
      "\n",
      "\n",
      "Naslov: Član 11[s1]\n",
      "Link do člana: https://www.paragraf.rs/propisi/zakon_o_radu.html#clan_11%5Bs1%5D\n",
      "Član 11[s1]. Zaposlena žena koja je započela korišćenje porodiljskog odsustva u skladu sa članom 94. Zakona o radu (\"Službeni glasnik RS\", broj 24/05) do dana stupanja na snagu ovog zakona - nastavlja da koristi pravo na porodiljsko odsustvo i odsustvo sa rada radi nege deteta u skladu sa odredbama tog člana. Pravo iz stava 1. ovog člana pripada i ocu deteta.\n",
      "\n",
      "\n",
      "Naslov: Član 94\n",
      "Link do člana: https://www.paragraf.rs/propisi/zakon_o_radu.html#clan_94\n",
      "Član 94. Zaposlena žena ima pravo na odsustvo sa rada zbog trudnoće i porođaja (u daljem tekstu: porodiljsko odsustvo), kao i odsustvo sa rada radi nege deteta, u ukupnom trajanju od 365 dana. Zaposlena žena ima pravo da otpočne porodiljsko odsustvo na osnovu nalaza nadležnog zdravstvenog organa najranije 45 dana, a obavezno 28 dana pre vremena određenog za porođaj. Porodiljsko odsustvo traje do navršena tri meseca od dana porođaja. Zaposlena žena, po isteku porodiljskog odsustva, ima pravo na odsustvo sa rada radi nege deteta do isteka 365 dana od dana otpočinjanja porodiljskog odsustva iz stava 2. ovog člana. Otac deteta može da koristi pravo iz stava 3. ovog člana u slučaju kad majka napusti dete, umre ili je iz drugih opravdanih razloga sprečena da koristi to pravo (izdržavanje kazne zatvora, teža bolest i dr.). To pravo otac deteta ima i kada majka nije u radnom odnosu. Otac deteta može da koristi pravo iz stava 4. ovog člana. Za vreme porodiljskog odsustva i odsustva sa rada radi nege deteta zaposlena žena, odnosno otac deteta, ima pravo na naknadu zarade, u skladu sa zakonom.\n",
      "\n",
      "\n",
      "Naslov: Član 94a\n",
      "Link do člana: https://www.paragraf.rs/propisi/zakon_o_radu.html#clan_94a\n",
      "Član 94a. Zaposlena žena ima pravo na porodiljsko odsustvo i pravo na odsustvo sa rada radi nege deteta za treće i svako naredno novorođeno dete u ukupnom trajanju od dve godine. Pravo na porodiljsko odsustvo i odsustvo sa rada radi nege deteta u ukupnom trajanju od dve godine ima i zaposlena žena koja u prvom porođaju rodi troje ili više dece, kao i zaposlena žena koja je rodila jedno, dvoje ili troje dece a u narednom porođaju rodi dvoje ili više dece. Zaposlena žena iz st. 1. i 2. ovog člana, po isteku porodiljskog odsustva, ima pravo na odsustvo sa rada radi nege deteta do isteka dve godine od dana otpočinjanja porodiljskog odsustva iz člana 94. stav 2. ovog zakona. Otac deteta iz st. 1. i 2. ovog člana može da koristi pravo na porodiljsko odsustvo u slučajevima i pod uslovima utvrđenim u članu 94. stav 5. ovog zakona, a pravo na odsustvo sa rada radi nege deteta u dužini utvrđenoj u stavu 3. ovog člana.\n",
      "\n",
      "\n",
      "Naslov: Član 95\n",
      "Link do člana: https://www.paragraf.rs/propisi/zakon_o_radu.html#clan_95\n",
      "Član 95. Pravo da koristi porodiljsko odsustvo u trajanju utvrđenom u članu 94. stav 3. ovog zakona ima i zaposlena žena ako se dete rodi mrtvo ili umre pre isteka porodiljskog odsustva.\n",
      "\n",
      "\n",
      "Naslov: Član 187\n",
      "Link do člana: https://www.paragraf.rs/propisi/zakon_o_radu.html#clan_187\n",
      "Član 187. Za vreme trudnoće, porodiljskog odsustva, odsustva sa rada radi nege deteta i odsustva sa rada radi posebne nege deteta poslodavac ne može zaposlenom da otkaže ugovor o radu. Zaposlenom iz stava 1. ovog člana rok za koji je ugovorom zasnovao radni odnos na određeno vreme produžava se do isteka korišćenja prava na odsustvo. Rešenje o otkazu ugovora o radu ništavo je ako je na dan donošenja rešenja o otkazu ugovora o radu poslodavcu bilo poznato postojanje okolnosti iz stava 1. ovog člana ili ako zaposleni u roku od 30 dana od dana prestanka radnog odnosa obavesti poslodavca o postojanju okolnosti iz stava 1. ovog člana i o tome dostavi odgovarajuću potvrdu ovlašćenog lekara ili drugog nadležnog organa.\n",
      "\n",
      "\n"
     ]
    }
   ],
   "source": [
    "print(f\"User Query: {query}\\n\\n\")\n",
    "print(context)"
   ]
  },
  {
   "cell_type": "markdown",
   "metadata": {},
   "source": [
    "Format messagges"
   ]
  },
  {
   "cell_type": "code",
   "execution_count": 30,
   "metadata": {},
   "outputs": [],
   "source": [
    "messages = [\n",
    "    {\"role\": \"system\", \"content\": system_prompt},\n",
    "    {\"role\": \"user\", \"content\": context_prompt.format(context=context)},\n",
    "    {\"role\": \"user\", \"content\": query_prompt.format(query=query)},\n",
    "]"
   ]
  },
  {
   "cell_type": "markdown",
   "metadata": {},
   "source": [
    "Get response"
   ]
  },
  {
   "cell_type": "code",
   "execution_count": 31,
   "metadata": {},
   "outputs": [],
   "source": [
    "response = openai_client.chat.completions.create(\n",
    "    model=config[\"openai\"][\"gpt_model\"][\"name_light\"],\n",
    "    temperature=config[\"openai\"][\"gpt_model\"][\"temperature\"],\n",
    "    messages=messages,\n",
    ")"
   ]
  },
  {
   "cell_type": "code",
   "execution_count": 32,
   "metadata": {},
   "outputs": [
    {
     "name": "stdout",
     "output_type": "stream",
     "text": [
      "Osobe koje su započele korišćenje porodiljskog odsustva pre stupanja na snagu određenih odredbi Zakona o radu zadržavaju pravo na korišćenje tog odsustva u skladu sa odredbama koje su bile na snazi u trenutku kada su ga započele. Dakle, žene koje su započele korišćenje porodiljskog odsustva 2005. godine nastavljaju da koriste to pravo u skladu sa odredbama Zakona o radu koje su važile u tom periodu. \n",
      "\n",
      "Konkretno, prema članu 11[s1] Zakona o radu, zaposlena žena koja je započela korišćenje porodiljskog odsustva u skladu sa članom 94 Zakona o radu (\"Službeni glasnik RS\", broj 24/05) do dana stupanja na snagu određenih odredbi zakona, nastavlja da koristi pravo na porodiljsko odsustvo i odsustvo sa rada radi nege deteta u skladu sa odredbama tog člana. Pravo iz ovog člana pripada i ocu deteta.\n",
      "\n",
      "Dakle, žene koje su započele korišćenje porodiljskog odsustva 2005. godine i dalje imaju pravo na korišćenje tog odsustva u skladu sa odredbama Zakona o radu koje su bile na snazi u tom periodu. Za više informacija, možete pogledati član 11[s1] Zakona o radu na linku: [Član 11[s1]](https://www.paragraf.rs/propisi/zakon_o_radu.html#clan_11%5Bs1%5D).\n"
     ]
    }
   ],
   "source": [
    "print(response.choices[0].message.content)"
   ]
  },
  {
   "cell_type": "code",
   "execution_count": null,
   "metadata": {},
   "outputs": [],
   "source": []
  }
 ],
 "metadata": {
  "kernelspec": {
   "display_name": "venv",
   "language": "python",
   "name": "python3"
  },
  "language_info": {
   "codemirror_mode": {
    "name": "ipython",
    "version": 3
   },
   "file_extension": ".py",
   "mimetype": "text/x-python",
   "name": "python",
   "nbconvert_exporter": "python",
   "pygments_lexer": "ipython3",
   "version": "3.10.13"
  }
 },
 "nbformat": 4,
 "nbformat_minor": 2
}
