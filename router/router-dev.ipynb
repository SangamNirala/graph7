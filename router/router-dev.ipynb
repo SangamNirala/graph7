{
 "cells": [
  {
   "cell_type": "code",
   "execution_count": 1,
   "metadata": {},
   "outputs": [],
   "source": [
    "import json\n",
    "import os\n",
    "from pathlib import Path\n",
    "from typing import Dict, List\n",
    "\n",
    "import numpy as np\n",
    "from loguru import logger\n",
    "from tqdm.auto import tqdm"
   ]
  },
  {
   "cell_type": "markdown",
   "metadata": {},
   "source": [
    "## Calculate centroids for all collections"
   ]
  },
  {
   "cell_type": "code",
   "execution_count": 15,
   "metadata": {},
   "outputs": [],
   "source": [
    "embeddings_dir = Path(\"../database/embeddings\")\n",
    "embeddings_paths = [\n",
    "    path for path in list(embeddings_dir.iterdir()) if path.suffix == \".jsonl\"\n",
    "]\n",
    "if not embeddings_dir.exists():\n",
    "    logger.error(f\"Embeddings dir not found: {embeddings_dir}.\")"
   ]
  },
  {
   "cell_type": "code",
   "execution_count": 21,
   "metadata": {},
   "outputs": [],
   "source": [
    "def load_embeddings(path: Path) -> List:\n",
    "    if not path.exists():\n",
    "        logger.error(f\"File does not exist: {path}.\")\n",
    "\n",
    "    with open(path, \"r\", encoding=\"utf-8\") as file:\n",
    "        embeddings = []\n",
    "        for line in file:\n",
    "            embeddings.append(json.loads(line)[1][\"data\"][0][\"embedding\"])\n",
    "\n",
    "    return embeddings"
   ]
  },
  {
   "cell_type": "code",
   "execution_count": 34,
   "metadata": {},
   "outputs": [
    {
     "data": {
      "application/vnd.jupyter.widget-view+json": {
       "model_id": "7d0747d4d8964a32aefa93fcef21da77",
       "version_major": 2,
       "version_minor": 0
      },
      "text/plain": [
       "Calculating centroids:   0%|          | 0/5 [00:00<?, ?it/s]"
      ]
     },
     "metadata": {},
     "output_type": "display_data"
    }
   ],
   "source": [
    "collection_centroids = {}\n",
    "for file_path in tqdm(\n",
    "    embeddings_paths, desc=\"Calculating centroids\", total=len(embeddings_paths)\n",
    "):\n",
    "    embeddings = load_embeddings(file_path)\n",
    "    centroid = np.array(embeddings).mean(axis=0)\n",
    "    collection_centroids[file_path.stem] = centroid.tolist()"
   ]
  },
  {
   "cell_type": "code",
   "execution_count": 36,
   "metadata": {},
   "outputs": [],
   "source": [
    "centroid_path = Path(\"./collection_centroids.json\")"
   ]
  },
  {
   "cell_type": "markdown",
   "metadata": {},
   "source": [
    "Save centroids"
   ]
  },
  {
   "cell_type": "code",
   "execution_count": 38,
   "metadata": {},
   "outputs": [],
   "source": [
    "with open(centroid_path, \"w\", encoding=\"utf-8\") as file:\n",
    "    file.write(json.dumps(collection_centroids, indent=4))"
   ]
  },
  {
   "cell_type": "markdown",
   "metadata": {},
   "source": [
    "### Query router dev"
   ]
  },
  {
   "cell_type": "code",
   "execution_count": 46,
   "metadata": {},
   "outputs": [],
   "source": [
    "def rout_query(centroids: Dict, query_embedding: List) -> str:\n",
    "    centroids = list(centroids.items())\n",
    "    centroids_np = np.array([value for key, value in centroids])\n",
    "    query_np = np.array(query_embedding)\n",
    "\n",
    "    norm_query = np.linalg.norm(query_np)\n",
    "    norm_centroids = np.linalg.norm(centroids_np, axis=1)\n",
    "\n",
    "    cosine_similarities = np.dot(centroids_np, query_np) / (norm_centroids * norm_query)\n",
    "    max_index = np.argmax(cosine_similarities)\n",
    "\n",
    "    collection = centroids[max_index][0]\n",
    "    return collection"
   ]
  },
  {
   "cell_type": "code",
   "execution_count": 47,
   "metadata": {},
   "outputs": [
    {
     "data": {
      "text/plain": [
       "'porodicni_zakon'"
      ]
     },
     "execution_count": 47,
     "metadata": {},
     "output_type": "execute_result"
    }
   ],
   "source": [
    "rout_query(\n",
    "    centroids=collection_centroids,\n",
    "    query_embedding=collection_centroids[\"porodicni_zakon\"],\n",
    ")"
   ]
  },
  {
   "cell_type": "markdown",
   "metadata": {},
   "source": [
    "### Query Router with Qdrant"
   ]
  },
  {
   "cell_type": "markdown",
   "metadata": {},
   "source": [
    "Load centroids"
   ]
  },
  {
   "cell_type": "code",
   "execution_count": 2,
   "metadata": {},
   "outputs": [],
   "source": [
    "centroid_path = Path(\"./collection_centroids.json\")\n",
    "with open(centroid_path, \"r\", encoding=\"utf-8\") as file:\n",
    "    centroids = json.loads(file.read())"
   ]
  },
  {
   "cell_type": "markdown",
   "metadata": {},
   "source": [
    "Set path to be able to load Qdrant Utils from database folder"
   ]
  },
  {
   "cell_type": "code",
   "execution_count": null,
   "metadata": {},
   "outputs": [],
   "source": [
    "logger.info(f\"Current working directory: {os.getcwd()}\")\n",
    "os.chdir(\"../\")\n",
    "logger.info(f\"Changed working directory: {os.getcwd()}\")"
   ]
  },
  {
   "cell_type": "code",
   "execution_count": 4,
   "metadata": {},
   "outputs": [],
   "source": [
    "from qdrant_client.http.models import Distance, PointStruct\n",
    "from tqdm.auto import tqdm\n",
    "\n",
    "from database.utils import (\n",
    "    create_collection,\n",
    "    delete_collection,\n",
    "    embed_text,\n",
    "    get_collection_info,\n",
    "    get_count,\n",
    "    search,\n",
    "    upsert,\n",
    ")"
   ]
  },
  {
   "cell_type": "markdown",
   "metadata": {},
   "source": [
    "Create data points for Qdrant"
   ]
  },
  {
   "cell_type": "code",
   "execution_count": 5,
   "metadata": {},
   "outputs": [],
   "source": [
    "points = []\n",
    "\n",
    "for id, (law_title, centroid) in enumerate(centroids.items()):\n",
    "    points.append(\n",
    "        PointStruct(\n",
    "            id=id,\n",
    "            vector=centroid,\n",
    "            payload={\"law_title\": law_title},\n",
    "        )\n",
    "    )"
   ]
  },
  {
   "cell_type": "markdown",
   "metadata": {},
   "source": [
    "We are using EUCLID distance because it is much more intuitive and better to set threshold between vectors for real distance metric. <br>\n",
    "COSINE metric is not really distance, it is an angle between vectors and it can be harder to interpret and set threshold value."
   ]
  },
  {
   "cell_type": "code",
   "execution_count": 6,
   "metadata": {},
   "outputs": [
    {
     "name": "stderr",
     "output_type": "stream",
     "text": [
      "\u001b[32m2024-04-26 22:40:22.450\u001b[0m | \u001b[1mINFO    \u001b[0m | \u001b[36mdatabase.utils\u001b[0m:\u001b[36mcreate_collection\u001b[0m:\u001b[36m31\u001b[0m - \u001b[1mCreating collection: router with vector size: 1536.\u001b[0m\n"
     ]
    }
   ],
   "source": [
    "collection_name = \"router\"\n",
    "create_collection(name=collection_name, distance=Distance.EUCLID)\n",
    "upsert(collection=collection_name, points=points)\n",
    "if get_count(collection=collection_name) != len(centroids.items()):\n",
    "    logger.error(\"Router is missing centroids.\")"
   ]
  },
  {
   "cell_type": "code",
   "execution_count": 7,
   "metadata": {},
   "outputs": [
    {
     "data": {
      "text/plain": [
       "{'status': <CollectionStatus.GREEN: 'green'>,\n",
       " 'optimizer_status': <OptimizersStatusOneOf.OK: 'ok'>,\n",
       " 'vectors_count': 5,\n",
       " 'indexed_vectors_count': 0,\n",
       " 'points_count': 5,\n",
       " 'segments_count': 2,\n",
       " 'config': {'params': {'vectors': {'size': 1536,\n",
       "    'distance': <Distance.EUCLID: 'Euclid'>,\n",
       "    'hnsw_config': None,\n",
       "    'quantization_config': None,\n",
       "    'on_disk': None},\n",
       "   'shard_number': 1,\n",
       "   'sharding_method': None,\n",
       "   'replication_factor': 1,\n",
       "   'write_consistency_factor': 1,\n",
       "   'read_fan_out_factor': None,\n",
       "   'on_disk_payload': True,\n",
       "   'sparse_vectors': None},\n",
       "  'hnsw_config': {'m': 16,\n",
       "   'ef_construct': 100,\n",
       "   'full_scan_threshold': 10000,\n",
       "   'max_indexing_threads': 0,\n",
       "   'on_disk': False,\n",
       "   'payload_m': None},\n",
       "  'optimizer_config': {'deleted_threshold': 0.2,\n",
       "   'vacuum_min_vector_number': 1000,\n",
       "   'default_segment_number': 0,\n",
       "   'max_segment_size': None,\n",
       "   'memmap_threshold': None,\n",
       "   'indexing_threshold': 20000,\n",
       "   'flush_interval_sec': 5,\n",
       "   'max_optimization_threads': None},\n",
       "  'wal_config': {'wal_capacity_mb': 32, 'wal_segments_ahead': 0},\n",
       "  'quantization_config': None},\n",
       " 'payload_schema': {}}"
      ]
     },
     "execution_count": 7,
     "metadata": {},
     "output_type": "execute_result"
    }
   ],
   "source": [
    "get_collection_info(collection_name)"
   ]
  },
  {
   "cell_type": "markdown",
   "metadata": {},
   "source": [
    "Search router"
   ]
  },
  {
   "cell_type": "code",
   "execution_count": 8,
   "metadata": {},
   "outputs": [],
   "source": [
    "def query_router_qdrant(\n",
    "    query_embedding: List, collection_name: str = \"router\", threshold: float = 0.2\n",
    ") -> str:\n",
    "    response = search(collection=collection_name, query_vector=query_embedding)\n",
    "    collection = response\n",
    "    return collection"
   ]
  },
  {
   "cell_type": "code",
   "execution_count": 11,
   "metadata": {},
   "outputs": [
    {
     "data": {
      "text/plain": [
       "[ScoredPoint(id=1, version=0, score=0.8214849, payload={'law_title': 'zakon_o_radu'}, vector=None, shard_key=None),\n",
       " ScoredPoint(id=0, version=0, score=0.84445184, payload={'law_title': 'porodicni_zakon'}, vector=None, shard_key=None),\n",
       " ScoredPoint(id=4, version=0, score=0.85869735, payload={'law_title': 'zakon-o-porezu-na-dohodak-gradjana'}, vector=None, shard_key=None),\n",
       " ScoredPoint(id=3, version=0, score=0.90343463, payload={'law_title': 'zakon_o_zastiti_potrosaca'}, vector=None, shard_key=None),\n",
       " ScoredPoint(id=2, version=0, score=0.9431141, payload={'law_title': 'zakon_o_zastiti_podataka_o_licnosti'}, vector=None, shard_key=None)]"
      ]
     },
     "execution_count": 11,
     "metadata": {},
     "output_type": "execute_result"
    }
   ],
   "source": [
    "# query = \"da li sajt sme da mi salje newsletter ako se nisam prijavila?\"\n",
    "query = \"koliko godisnjih dana imam po zakonu?\"\n",
    "query_embedding = embed_text(query, model=\"text-embedding-3-small\").data[0].embedding\n",
    "query_router_qdrant(query_embedding)"
   ]
  },
  {
   "cell_type": "markdown",
   "metadata": {},
   "source": [
    "### Semantic router using GPT"
   ]
  },
  {
   "cell_type": "code",
   "execution_count": 12,
   "metadata": {},
   "outputs": [],
   "source": [
    "from openai import OpenAI"
   ]
  },
  {
   "cell_type": "code",
   "execution_count": 14,
   "metadata": {},
   "outputs": [],
   "source": [
    "client = OpenAI(api_key=os.environ[\"OPENAI_API_KEY\"])"
   ]
  },
  {
   "cell_type": "code",
   "execution_count": 23,
   "metadata": {},
   "outputs": [],
   "source": [
    "prompt = \"\"\"\n",
    "Tvoj zadatak je da na osnovu datog pitanja korisnika odlucis koji zakon ili zakoni su potrebni da bi se odgovorilo na korisnikovo pitanje.\n",
    "Ponudjeni zakoni i njihova objasnjenja su sledeci:\n",
    "- zakon_o_radu\n",
    " - Zakon o radu Republike Srbije reguliše radne odnose između zaposlenih i poslodavaca. Definiše prava i obaveze obe strane, uključujući radno vreme, odmore i druga odsustva i uslove za otkaz ugovora o radu. Zakon takođe obuhvata pravila vezana za ugovore o radu, minimalnu zaradu, kao i mere zaštite na radu. Osim toga, predviđa mehanizme za rešavanje radnih sporova.\n",
    "- zakon_o_porezu_na_dohodak_gradjana\n",
    " - Zakon o porezu na dohodak građana reguliše način oporezivanja porezom na dohodak građana, u šta spadaju zarada, prihodi od samostalnih delatnosti, prihodi od kapitala, nepokretnosti i slično. Zakon detaljno opisuje koji sve prihodi su oporezivi ovim porezom, kao i poreske stope, osnovice, određena poreska oslobođenja i olakšice za određene kategorije građana.\n",
    "- zakon_o_zastiti_podataka_o_licnosti\n",
    " - Zakon o zaštiti podataka o ličnosti štiti prava građana na privatnost njihovih ličnih podataka. Obavezuje sve organizacije koje obrađuju lične podatke da to čine transparentno, zakonito i u skladu sa definisanim svrhama. Zakon definiše prava lica na pristup, ispravku, brisanje i prenos svojih podataka o ličnosti. Takođe, ustanovljava Poverenika za informacije od javnog značaja i zaštitu podataka o ličnosti kao regulatorno telo koje nadzire primenu zakona.\n",
    "- zakon_o_zastiti_potrosaca\n",
    " - Zakon o zaštiti potrošača osigurava da potrošači u Srbiji imaju prava na sigurnost i kvalitet proizvoda i usluga. Zakon propisuje obaveze trgovaca u pogledu pravilnog informisanja potrošača o proizvodima, uslugama, cenama i pravu na reklamaciju. Takođe, uključuje prava potrošača na odustanak od kupovine unutar određenog roka i prava u slučaju neispravnosti proizvoda. \n",
    "- porodicni_zakon\n",
    " - Porodični zakon reguliše pravne odnose unutar porodice, uključujući brak, roditeljstvo, starateljstvo, hraniteljstvo i usvojenje. Zakon definiše prava i obaveze bračnih partnera, kao i prava dece i roditeljske odgovornosti. Takođe se bavi pitanjima nasleđivanja i alimentacije. \n",
    "\n",
    "**FORMAT ODGOVORA:**\n",
    "- Odgovor vratiti u JSON formatu.\n",
    "- Odgovor treba da sadrzi samo JSON output, bez dodataka.\n",
    "- Odgovor mora da bude string koji moze da se ucita uz pmoc komande json.loads().\n",
    "- Imena zakona mogu biti samo sledeca: zakon_o_radu, zakon_o_porezu_na_dohodak_gradjana, zakon_o_zastiti_podataka_o_licnosti, zakon_o_zastiti_potrosaca, porodicni_zakon.\n",
    "- Jedno pitanje korisnika moze da se odnosi na vise zakona.\n",
    "- Ukoliko mislis da zakon odgovara korisnikovom pitanju ali nisi 100% siguran onda ga svakako stavi u odgovor.\n",
    "- Ukoliko korisnikovo pitanje ne odgovara ni jedno zakonu vrati genericki string: \"nema_zakona\".\n",
    "- Zakone uvek moras vracati kao listu stringova bez obzira da li ih je 1 ili vise.\n",
    "- Primer JSON odgovora:\n",
    "\n",
    "{{\n",
    "    response: [\"ime_zakona\"]\n",
    "}}\n",
    "\n",
    "**PITANJE KORISINKA:**\n",
    "{query}\n",
    "\"\"\""
   ]
  },
  {
   "cell_type": "code",
   "execution_count": 24,
   "metadata": {},
   "outputs": [],
   "source": [
    "def semantic_query_router(\n",
    "    query: str, prompt: str, temperature: float, model: str = \"gpt-3.5-turbo\"\n",
    ") -> List[str]:\n",
    "    response = client.chat.completions.create(\n",
    "        model=model,\n",
    "        response_format={\"type\": \"json_object\"},\n",
    "        messages=[{\"role\": \"system\", \"content\": prompt.format(query=query)}],\n",
    "        temperature=temperature,\n",
    "    )\n",
    "    collections = json.loads(response.choices[0].message.content)[\"response\"]\n",
    "    return collections"
   ]
  },
  {
   "cell_type": "code",
   "execution_count": 29,
   "metadata": {},
   "outputs": [
    {
     "name": "stdout",
     "output_type": "stream",
     "text": [
      "CPU times: user 2 µs, sys: 0 ns, total: 2 µs\n",
      "Wall time: 4.05 µs\n"
     ]
    }
   ],
   "source": [
    "%time\n",
    "# query = \"da li sajt sme da mi salje newsletter ako se nisam prijavila?\"\n",
    "query = \"koliko dana slobodnog imam za porodisljko odsustvo?\"\n",
    "\n",
    "response = semantic_query_router(query=query, prompt=prompt, temperature=0.0)"
   ]
  },
  {
   "cell_type": "code",
   "execution_count": 30,
   "metadata": {},
   "outputs": [
    {
     "data": {
      "text/plain": [
       "['zakon_o_radu']"
      ]
     },
     "execution_count": 30,
     "metadata": {},
     "output_type": "execute_result"
    }
   ],
   "source": [
    "response"
   ]
  },
  {
   "cell_type": "code",
   "execution_count": null,
   "metadata": {},
   "outputs": [],
   "source": []
  }
 ],
 "metadata": {
  "kernelspec": {
   "display_name": "venv",
   "language": "python",
   "name": "python3"
  },
  "language_info": {
   "codemirror_mode": {
    "name": "ipython",
    "version": 3
   },
   "file_extension": ".py",
   "mimetype": "text/x-python",
   "name": "python",
   "nbconvert_exporter": "python",
   "pygments_lexer": "ipython3",
   "version": "3.10.13"
  }
 },
 "nbformat": 4,
 "nbformat_minor": 2
}
