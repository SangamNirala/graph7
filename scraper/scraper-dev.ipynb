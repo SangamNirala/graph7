{
 "cells": [
  {
   "cell_type": "code",
   "execution_count": 1,
   "metadata": {},
   "outputs": [],
   "source": [
    "import json\n",
    "from pathlib import Path\n",
    "from typing import Literal\n",
    "\n",
    "import requests\n",
    "from bs4 import BeautifulSoup\n",
    "from tqdm.auto import tqdm"
   ]
  },
  {
   "cell_type": "code",
   "execution_count": 2,
   "metadata": {},
   "outputs": [],
   "source": [
    "URL = \"https://www.paragraf.rs/propisi/zakon_o_radu.html\"\n",
    "output_path = Path(\"./srb_labor_law_data.json\")\n",
    "page = requests.get(URL)"
   ]
  },
  {
   "cell_type": "code",
   "execution_count": 3,
   "metadata": {},
   "outputs": [],
   "source": [
    "soup = BeautifulSoup(page.content, \"lxml\")"
   ]
  },
  {
   "cell_type": "code",
   "execution_count": 4,
   "metadata": {},
   "outputs": [
    {
     "data": {
      "application/vnd.jupyter.widget-view+json": {
       "model_id": "0ecab5bfd628433d9876d4d933e1613f",
       "version_major": 2,
       "version_minor": 0
      },
      "text/plain": [
       "  0%|          | 0/1452 [00:00<?, ?it/s]"
      ]
     },
     "metadata": {},
     "output_type": "display_data"
    }
   ],
   "source": [
    "labor_law = []\n",
    "article_title = None\n",
    "article_texts = []\n",
    "article_link = None\n",
    "\n",
    "\n",
    "def check_class_element(element, class_name: Literal[\"normal\", \"clan\"]) -> bool:\n",
    "    \"\"\"Check if the element has a class 'normal'.\"\"\"\n",
    "    if class_name == \"normal\":\n",
    "        return element.get(\"class\") == [\"normal\"]\n",
    "    else:\n",
    "        return element.get(\"class\") == [\"clan\"]\n",
    "\n",
    "\n",
    "elements = soup.find_all(\"p\")\n",
    "for el in tqdm(elements):\n",
    "    if check_class_element(el, \"clan\"):\n",
    "        if article_title:\n",
    "            labor_law.append(\n",
    "                {\"title\": article_title, \"texts\": article_texts, \"link\": article_link}\n",
    "            )\n",
    "            article_texts = []\n",
    "        article_title = el.get_text(strip=True)\n",
    "\n",
    "        name_attr = el.find(\"a\").get(\"name\") if el.find(\"a\") else None\n",
    "        article_link = f\"{URL}#{name_attr}\" if name_attr else None\n",
    "    elif article_title and check_class_element(el, \"normal\"):\n",
    "        article_texts.append(el.get_text(strip=True))\n",
    "\n",
    "if article_title and article_texts:\n",
    "    labor_law.append(\n",
    "        {\"title\": article_title, \"texts\": article_texts, \"link\": article_link}\n",
    "    )"
   ]
  },
  {
   "cell_type": "markdown",
   "metadata": {},
   "source": [
    "Write json"
   ]
  },
  {
   "cell_type": "code",
   "execution_count": 5,
   "metadata": {},
   "outputs": [],
   "source": [
    "with open(output_path, \"w\", encoding=\"utf-8\") as file:\n",
    "    file.write(json.dumps(labor_law, indent=4))"
   ]
  },
  {
   "cell_type": "markdown",
   "metadata": {},
   "source": [
    "Read json"
   ]
  },
  {
   "cell_type": "code",
   "execution_count": 17,
   "metadata": {},
   "outputs": [],
   "source": [
    "with open(output_path, \"r\", encoding=\"utf-8\") as file:\n",
    "    data = json.loads(file.read())"
   ]
  },
  {
   "cell_type": "code",
   "execution_count": null,
   "metadata": {},
   "outputs": [],
   "source": []
  }
 ],
 "metadata": {
  "kernelspec": {
   "display_name": "venv",
   "language": "python",
   "name": "python3"
  },
  "language_info": {
   "codemirror_mode": {
    "name": "ipython",
    "version": 3
   },
   "file_extension": ".py",
   "mimetype": "text/x-python",
   "name": "python",
   "nbconvert_exporter": "python",
   "pygments_lexer": "ipython3",
   "version": "3.10.13"
  }
 },
 "nbformat": 4,
 "nbformat_minor": 2
}
