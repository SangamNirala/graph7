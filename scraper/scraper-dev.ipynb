{
 "cells": [
  {
   "cell_type": "code",
   "execution_count": 28,
   "metadata": {},
   "outputs": [],
   "source": [
    "import json\n",
    "from pathlib import Path\n",
    "from typing import Dict, List, Literal\n",
    "\n",
    "import requests\n",
    "from bs4 import BeautifulSoup\n",
    "from tqdm.auto import tqdm"
   ]
  },
  {
   "cell_type": "code",
   "execution_count": 3,
   "metadata": {},
   "outputs": [],
   "source": [
    "URL = \"https://www.paragraf.rs/propisi/zakon_o_radu.html\"\n",
    "output_path = Path(\"./srb_labor_law_data.json\")\n",
    "page = requests.get(URL)"
   ]
  },
  {
   "cell_type": "code",
   "execution_count": 4,
   "metadata": {},
   "outputs": [],
   "source": [
    "soup = BeautifulSoup(page.content, \"lxml\")"
   ]
  },
  {
   "cell_type": "code",
   "execution_count": 21,
   "metadata": {},
   "outputs": [],
   "source": [
    "def check_class_element(element, class_name: Literal[\"normal\", \"clan\"]) -> bool:\n",
    "    \"\"\"Check if the element has a class 'normal'.\"\"\"\n",
    "    if class_name == \"normal\":\n",
    "        return element.get(\"class\") == [\"normal\"]\n",
    "    else:\n",
    "        return element.get(\"class\") == [\"clan\"]\n",
    "\n",
    "\n",
    "def run_scraper(soup, url: str) -> List[Dict]:\n",
    "    law_articles = []\n",
    "    article_title = None\n",
    "    article_texts = []\n",
    "    article_link = None\n",
    "\n",
    "    elements = soup.find_all(\"p\")\n",
    "    for el in tqdm(elements):\n",
    "        if check_class_element(el, \"clan\"):\n",
    "            if article_title:\n",
    "                law_articles.append(\n",
    "                    {\n",
    "                        \"title\": article_title,\n",
    "                        \"texts\": article_texts,\n",
    "                        \"link\": article_link,\n",
    "                    }\n",
    "                )\n",
    "                article_texts = []\n",
    "            article_title = el.get_text(strip=True)\n",
    "\n",
    "            name_attr = el.find(\"a\").get(\"name\") if el.find(\"a\") else None\n",
    "            article_link = f\"{url}#{name_attr}\" if name_attr else None\n",
    "        elif article_title and check_class_element(el, \"normal\"):\n",
    "            article_texts.append(el.get_text(strip=True))\n",
    "\n",
    "    if article_title and article_texts:\n",
    "        law_articles.append(\n",
    "            {\"title\": article_title, \"texts\": article_texts, \"link\": article_link}\n",
    "        )\n",
    "\n",
    "    return law_articles"
   ]
  },
  {
   "cell_type": "markdown",
   "metadata": {},
   "source": [
    "Write json"
   ]
  },
  {
   "cell_type": "code",
   "execution_count": 7,
   "metadata": {},
   "outputs": [],
   "source": [
    "with open(output_path, \"w\", encoding=\"utf-8\") as file:\n",
    "    file.write(json.dumps(labor_law, indent=4))"
   ]
  },
  {
   "cell_type": "markdown",
   "metadata": {},
   "source": [
    "Read json"
   ]
  },
  {
   "cell_type": "code",
   "execution_count": 17,
   "metadata": {},
   "outputs": [],
   "source": [
    "with open(output_path, \"r\", encoding=\"utf-8\") as file:\n",
    "    data = json.loads(file.read())"
   ]
  },
  {
   "cell_type": "markdown",
   "metadata": {},
   "source": [
    "## Scrape multiple laws"
   ]
  },
  {
   "cell_type": "code",
   "execution_count": 29,
   "metadata": {},
   "outputs": [],
   "source": [
    "urls = [\n",
    "    \"https://www.paragraf.rs/propisi/zakon_o_radu.html\",\n",
    "    \"https://www.paragraf.rs/propisi/zakon-o-porezu-na-dohodak-gradjana.html\",\n",
    "    \"https://www.paragraf.rs/propisi/zakon_o_zastiti_podataka_o_licnosti.html\",\n",
    "    \"https://www.paragraf.rs/propisi/zakon_o_zastiti_potrosaca.html\",\n",
    "    \"https://www.paragraf.rs/propisi/porodicni_zakon.html\",\n",
    "]\n",
    "output_dir = Path(\"./laws\")\n",
    "if not output_dir.exists():\n",
    "    output_dir.mkdir(exist_ok=True)"
   ]
  },
  {
   "cell_type": "code",
   "execution_count": 30,
   "metadata": {},
   "outputs": [
    {
     "data": {
      "application/vnd.jupyter.widget-view+json": {
       "model_id": "59fce09e0bde4c908d938957948630f5",
       "version_major": 2,
       "version_minor": 0
      },
      "text/plain": [
       "Scraping laws:   0%|          | 0/5 [00:00<?, ?it/s]"
      ]
     },
     "metadata": {},
     "output_type": "display_data"
    },
    {
     "data": {
      "application/vnd.jupyter.widget-view+json": {
       "model_id": "9cdadfd6d4cd40dda7ba5b2e4eba82cc",
       "version_major": 2,
       "version_minor": 0
      },
      "text/plain": [
       "  0%|          | 0/1451 [00:00<?, ?it/s]"
      ]
     },
     "metadata": {},
     "output_type": "display_data"
    },
    {
     "data": {
      "application/vnd.jupyter.widget-view+json": {
       "model_id": "72614c7bb65444f9afd0a38cfe32d24d",
       "version_major": 2,
       "version_minor": 0
      },
      "text/plain": [
       "  0%|          | 0/1358 [00:00<?, ?it/s]"
      ]
     },
     "metadata": {},
     "output_type": "display_data"
    },
    {
     "data": {
      "application/vnd.jupyter.widget-view+json": {
       "model_id": "119afe3a2daf48cda94dbe887996643a",
       "version_major": 2,
       "version_minor": 0
      },
      "text/plain": [
       "  0%|          | 0/1095 [00:00<?, ?it/s]"
      ]
     },
     "metadata": {},
     "output_type": "display_data"
    },
    {
     "data": {
      "application/vnd.jupyter.widget-view+json": {
       "model_id": "ad7e1bb8691a4a02b26d3aeef8a7a26d",
       "version_major": 2,
       "version_minor": 0
      },
      "text/plain": [
       "  0%|          | 0/1645 [00:00<?, ?it/s]"
      ]
     },
     "metadata": {},
     "output_type": "display_data"
    },
    {
     "data": {
      "application/vnd.jupyter.widget-view+json": {
       "model_id": "ec1b314068ff477680d727fa0b3ed5a0",
       "version_major": 2,
       "version_minor": 0
      },
      "text/plain": [
       "  0%|          | 0/1808 [00:00<?, ?it/s]"
      ]
     },
     "metadata": {},
     "output_type": "display_data"
    }
   ],
   "source": [
    "for url in tqdm(urls, desc=\"Scraping laws\", total=len(urls)):\n",
    "    save_path = output_dir / Path(url).with_suffix(\".json\").name\n",
    "    page = requests.get(url)\n",
    "    soup = BeautifulSoup(page.content, \"lxml\")\n",
    "\n",
    "    law_articles = run_scraper(soup, url)\n",
    "\n",
    "    with open(save_path, \"w\", encoding=\"utf-8\") as file:\n",
    "        file.write(json.dumps(law_articles, indent=4))"
   ]
  },
  {
   "cell_type": "code",
   "execution_count": null,
   "metadata": {},
   "outputs": [],
   "source": []
  }
 ],
 "metadata": {
  "kernelspec": {
   "display_name": "venv",
   "language": "python",
   "name": "python3"
  },
  "language_info": {
   "codemirror_mode": {
    "name": "ipython",
    "version": 3
   },
   "file_extension": ".py",
   "mimetype": "text/x-python",
   "name": "python",
   "nbconvert_exporter": "python",
   "pygments_lexer": "ipython3",
   "version": "3.10.13"
  }
 },
 "nbformat": 4,
 "nbformat_minor": 2
}
