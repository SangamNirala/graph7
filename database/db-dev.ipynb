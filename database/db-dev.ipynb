{
 "cells": [
  {
   "cell_type": "code",
   "execution_count": 1,
   "metadata": {},
   "outputs": [
    {
     "data": {
      "text/plain": [
       "True"
      ]
     },
     "execution_count": 1,
     "metadata": {},
     "output_type": "execute_result"
    }
   ],
   "source": [
    "import json\n",
    "import os\n",
    "from pprint import pprint\n",
    "\n",
    "import tiktoken\n",
    "from config import EMBEDDING_MODEL\n",
    "from dotenv import find_dotenv, load_dotenv\n",
    "from qdrant_client.http.models import PointStruct\n",
    "from utils import (\n",
    "    create_collection,\n",
    "    get_collection_info,\n",
    "    get_count,\n",
    "    upsert,\n",
    "    search,\n",
    "    embed_text,\n",
    ")\n",
    "\n",
    "load_dotenv(find_dotenv())"
   ]
  },
  {
   "cell_type": "code",
   "execution_count": 14,
   "metadata": {},
   "outputs": [],
   "source": [
    "raw_data_path = \"../scraper/srb_labor_law_data.json\""
   ]
  },
  {
   "cell_type": "code",
   "execution_count": 15,
   "metadata": {},
   "outputs": [],
   "source": [
    "with open(raw_data_path, \"r\", encoding=\"utf-8\") as file:\n",
    "    raw_data = json.loads(file.read())"
   ]
  },
  {
   "cell_type": "markdown",
   "metadata": {},
   "source": [
    "## Embedd data"
   ]
  },
  {
   "cell_type": "markdown",
   "metadata": {},
   "source": [
    "Create JSONL for parallel embedding"
   ]
  },
  {
   "cell_type": "code",
   "execution_count": 42,
   "metadata": {},
   "outputs": [],
   "source": [
    "filename = \"./requests_to_parallel_process.jsonl\"\n",
    "jobs = [\n",
    "    {\n",
    "        \"model\": EMBEDDING_MODEL,\n",
    "        \"input\": \". \".join([sample[\"title\"], \" \".join(sample[\"texts\"])]),\n",
    "    }\n",
    "    for sample in raw_data\n",
    "]\n",
    "with open(filename, \"w\") as f:\n",
    "    for job in jobs:\n",
    "        json_string = json.dumps(job)\n",
    "        f.write(json_string + \"\\n\")"
   ]
  },
  {
   "cell_type": "code",
   "execution_count": 44,
   "metadata": {},
   "outputs": [
    {
     "name": "stdout",
     "output_type": "stream",
     "text": [
      "INFO:root:Starting request #0\n",
      "INFO:root:Starting request #1\n",
      "INFO:root:Starting request #2\n",
      "INFO:root:Starting request #3\n",
      "INFO:root:Starting request #4\n",
      "INFO:root:Starting request #5\n",
      "INFO:root:Starting request #6\n",
      "INFO:root:Starting request #7\n",
      "INFO:root:Starting request #8\n",
      "INFO:root:Starting request #9\n",
      "INFO:root:Starting request #10\n",
      "INFO:root:Starting request #11\n",
      "INFO:root:Starting request #12\n",
      "INFO:root:Starting request #13\n",
      "INFO:root:Starting request #14\n",
      "INFO:root:Starting request #15\n",
      "INFO:root:Starting request #16\n",
      "INFO:root:Starting request #17\n",
      "INFO:root:Starting request #18\n",
      "INFO:root:Starting request #19\n",
      "INFO:root:Starting request #20\n",
      "INFO:root:Starting request #21\n",
      "INFO:root:Starting request #22\n",
      "INFO:root:Starting request #23\n",
      "INFO:root:Starting request #24\n",
      "INFO:root:Starting request #25\n",
      "INFO:root:Starting request #26\n",
      "INFO:root:Starting request #27\n",
      "INFO:root:Starting request #28\n",
      "INFO:root:Starting request #29\n",
      "INFO:root:Starting request #30\n",
      "INFO:root:Starting request #31\n",
      "INFO:root:Starting request #32\n",
      "INFO:root:Starting request #33\n",
      "INFO:root:Starting request #34\n",
      "INFO:root:Starting request #35\n",
      "INFO:root:Starting request #36\n",
      "INFO:root:Starting request #37\n",
      "INFO:root:Starting request #38\n",
      "INFO:root:Starting request #39\n",
      "INFO:root:Starting request #40\n",
      "INFO:root:Starting request #41\n",
      "INFO:root:Starting request #42\n",
      "INFO:root:Starting request #43\n",
      "INFO:root:Starting request #44\n",
      "INFO:root:Starting request #45\n",
      "INFO:root:Starting request #46\n",
      "INFO:root:Starting request #47\n",
      "INFO:root:Starting request #48\n",
      "INFO:root:Starting request #49\n",
      "INFO:root:Starting request #50\n",
      "INFO:root:Starting request #51\n",
      "INFO:root:Starting request #52\n",
      "INFO:root:Starting request #53\n",
      "INFO:root:Starting request #54\n",
      "INFO:root:Starting request #55\n",
      "INFO:root:Starting request #56\n",
      "INFO:root:Starting request #57\n",
      "INFO:root:Starting request #58\n",
      "INFO:root:Starting request #59\n",
      "INFO:root:Starting request #60\n",
      "INFO:root:Starting request #61\n",
      "INFO:root:Starting request #62\n",
      "INFO:root:Starting request #63\n",
      "INFO:root:Starting request #64\n",
      "INFO:root:Starting request #65\n",
      "INFO:root:Starting request #66\n",
      "INFO:root:Starting request #67\n",
      "INFO:root:Starting request #68\n",
      "INFO:root:Starting request #69\n",
      "INFO:root:Starting request #70\n",
      "INFO:root:Starting request #71\n",
      "INFO:root:Starting request #72\n",
      "INFO:root:Starting request #73\n",
      "INFO:root:Starting request #74\n",
      "INFO:root:Starting request #75\n",
      "INFO:root:Starting request #76\n",
      "INFO:root:Starting request #77\n",
      "INFO:root:Starting request #78\n",
      "INFO:root:Starting request #79\n",
      "INFO:root:Starting request #80\n",
      "INFO:root:Starting request #81\n",
      "INFO:root:Starting request #82\n",
      "INFO:root:Starting request #83\n",
      "INFO:root:Starting request #84\n",
      "INFO:root:Starting request #85\n",
      "INFO:root:Starting request #86\n",
      "INFO:root:Starting request #87\n",
      "INFO:root:Starting request #88\n",
      "INFO:root:Starting request #89\n",
      "INFO:root:Starting request #90\n",
      "INFO:root:Starting request #91\n",
      "INFO:root:Starting request #92\n",
      "INFO:root:Starting request #93\n",
      "INFO:root:Starting request #94\n",
      "INFO:root:Starting request #95\n",
      "INFO:root:Starting request #96\n",
      "INFO:root:Starting request #97\n",
      "INFO:root:Starting request #98\n",
      "INFO:root:Starting request #99\n",
      "INFO:root:Starting request #100\n",
      "INFO:root:Starting request #101\n",
      "INFO:root:Starting request #102\n",
      "INFO:root:Starting request #103\n",
      "INFO:root:Starting request #104\n",
      "INFO:root:Starting request #105\n",
      "INFO:root:Starting request #106\n",
      "INFO:root:Starting request #107\n",
      "INFO:root:Starting request #108\n",
      "INFO:root:Starting request #109\n",
      "INFO:root:Starting request #110\n",
      "INFO:root:Starting request #111\n",
      "INFO:root:Starting request #112\n",
      "INFO:root:Starting request #113\n",
      "INFO:root:Starting request #114\n",
      "INFO:root:Starting request #115\n",
      "INFO:root:Starting request #116\n",
      "INFO:root:Starting request #117\n",
      "INFO:root:Starting request #118\n",
      "INFO:root:Starting request #119\n",
      "INFO:root:Starting request #120\n",
      "INFO:root:Starting request #121\n",
      "INFO:root:Starting request #122\n",
      "INFO:root:Starting request #123\n",
      "INFO:root:Starting request #124\n",
      "INFO:root:Starting request #125\n",
      "INFO:root:Starting request #126\n",
      "INFO:root:Starting request #127\n",
      "INFO:root:Starting request #128\n",
      "INFO:root:Starting request #129\n",
      "INFO:root:Starting request #130\n",
      "INFO:root:Starting request #131\n",
      "INFO:root:Starting request #132\n",
      "INFO:root:Starting request #133\n",
      "INFO:root:Starting request #134\n",
      "INFO:root:Starting request #135\n",
      "INFO:root:Starting request #136\n",
      "INFO:root:Starting request #137\n",
      "INFO:root:Starting request #138\n",
      "INFO:root:Starting request #139\n",
      "INFO:root:Starting request #140\n",
      "INFO:root:Starting request #141\n",
      "INFO:root:Starting request #142\n",
      "INFO:root:Starting request #143\n",
      "INFO:root:Starting request #144\n",
      "INFO:root:Starting request #145\n",
      "INFO:root:Starting request #146\n",
      "INFO:root:Starting request #147\n",
      "INFO:root:Starting request #148\n",
      "INFO:root:Starting request #149\n",
      "INFO:root:Starting request #150\n",
      "INFO:root:Starting request #151\n",
      "INFO:root:Starting request #152\n",
      "INFO:root:Starting request #153\n",
      "INFO:root:Starting request #154\n",
      "INFO:root:Starting request #155\n",
      "INFO:root:Starting request #156\n",
      "INFO:root:Starting request #157\n",
      "INFO:root:Starting request #158\n",
      "INFO:root:Starting request #159\n",
      "INFO:root:Starting request #160\n",
      "INFO:root:Starting request #161\n",
      "INFO:root:Starting request #162\n",
      "INFO:root:Starting request #163\n",
      "INFO:root:Starting request #164\n",
      "INFO:root:Starting request #165\n",
      "INFO:root:Starting request #166\n",
      "INFO:root:Starting request #167\n",
      "INFO:root:Starting request #168\n",
      "INFO:root:Starting request #169\n",
      "INFO:root:Starting request #170\n",
      "INFO:root:Starting request #171\n",
      "INFO:root:Starting request #172\n",
      "INFO:root:Starting request #173\n",
      "INFO:root:Starting request #174\n",
      "INFO:root:Starting request #175\n",
      "INFO:root:Starting request #176\n",
      "INFO:root:Starting request #177\n",
      "INFO:root:Starting request #178\n",
      "INFO:root:Starting request #179\n",
      "INFO:root:Starting request #180\n",
      "INFO:root:Starting request #181\n",
      "INFO:root:Starting request #182\n",
      "INFO:root:Starting request #183\n",
      "INFO:root:Starting request #184\n",
      "INFO:root:Starting request #185\n",
      "INFO:root:Starting request #186\n",
      "INFO:root:Starting request #187\n",
      "INFO:root:Starting request #188\n",
      "INFO:root:Starting request #189\n",
      "INFO:root:Starting request #190\n",
      "INFO:root:Starting request #191\n",
      "INFO:root:Starting request #192\n",
      "INFO:root:Starting request #193\n",
      "INFO:root:Starting request #194\n",
      "INFO:root:Starting request #195\n",
      "INFO:root:Starting request #196\n",
      "INFO:root:Starting request #197\n",
      "INFO:root:Starting request #198\n",
      "INFO:root:Starting request #199\n",
      "INFO:root:Starting request #200\n",
      "INFO:root:Starting request #201\n",
      "INFO:root:Starting request #202\n",
      "INFO:root:Starting request #203\n",
      "INFO:root:Starting request #204\n",
      "INFO:root:Starting request #205\n",
      "INFO:root:Starting request #206\n",
      "INFO:root:Starting request #207\n",
      "INFO:root:Starting request #208\n",
      "INFO:root:Starting request #209\n",
      "INFO:root:Starting request #210\n",
      "INFO:root:Starting request #211\n",
      "INFO:root:Starting request #212\n",
      "INFO:root:Starting request #213\n",
      "INFO:root:Starting request #214\n",
      "INFO:root:Starting request #215\n",
      "INFO:root:Starting request #216\n",
      "INFO:root:Starting request #217\n",
      "INFO:root:Starting request #218\n",
      "INFO:root:Starting request #219\n",
      "INFO:root:Starting request #220\n",
      "INFO:root:Starting request #221\n",
      "INFO:root:Starting request #222\n",
      "INFO:root:Starting request #223\n",
      "INFO:root:Starting request #224\n",
      "INFO:root:Starting request #225\n",
      "INFO:root:Starting request #226\n",
      "INFO:root:Starting request #227\n",
      "INFO:root:Starting request #228\n",
      "INFO:root:Starting request #229\n",
      "INFO:root:Starting request #230\n",
      "INFO:root:Starting request #231\n",
      "INFO:root:Starting request #232\n",
      "INFO:root:Starting request #233\n",
      "INFO:root:Starting request #234\n",
      "INFO:root:Starting request #235\n",
      "INFO:root:Starting request #236\n",
      "INFO:root:Starting request #237\n",
      "INFO:root:Starting request #238\n",
      "INFO:root:Starting request #239\n",
      "INFO:root:Starting request #240\n",
      "INFO:root:Starting request #241\n",
      "INFO:root:Starting request #242\n",
      "INFO:root:Starting request #243\n",
      "INFO:root:Starting request #244\n",
      "INFO:root:Starting request #245\n",
      "INFO:root:Starting request #246\n",
      "INFO:root:Starting request #247\n",
      "INFO:root:Starting request #248\n",
      "INFO:root:Starting request #249\n",
      "INFO:root:Starting request #250\n",
      "INFO:root:Starting request #251\n",
      "INFO:root:Starting request #252\n",
      "INFO:root:Starting request #253\n",
      "INFO:root:Starting request #254\n",
      "INFO:root:Starting request #255\n",
      "INFO:root:Starting request #256\n",
      "INFO:root:Starting request #257\n",
      "INFO:root:Starting request #258\n",
      "INFO:root:Starting request #259\n",
      "INFO:root:Starting request #260\n",
      "INFO:root:Starting request #261\n",
      "INFO:root:Starting request #262\n",
      "INFO:root:Starting request #263\n",
      "INFO:root:Starting request #264\n",
      "INFO:root:Starting request #265\n",
      "INFO:root:Starting request #266\n",
      "INFO:root:Starting request #267\n",
      "INFO:root:Starting request #268\n",
      "INFO:root:Starting request #269\n",
      "INFO:root:Starting request #270\n",
      "INFO:root:Starting request #271\n",
      "INFO:root:Starting request #272\n",
      "INFO:root:Starting request #273\n",
      "INFO:root:Starting request #274\n",
      "INFO:root:Starting request #275\n",
      "INFO:root:Starting request #276\n",
      "INFO:root:Starting request #277\n",
      "INFO:root:Starting request #278\n",
      "INFO:root:Starting request #279\n",
      "INFO:root:Starting request #280\n",
      "INFO:root:Starting request #281\n",
      "INFO:root:Starting request #282\n",
      "INFO:root:Starting request #283\n",
      "INFO:root:Starting request #284\n",
      "INFO:root:Starting request #285\n",
      "INFO:root:Starting request #286\n",
      "INFO:root:Starting request #287\n",
      "INFO:root:Starting request #288\n",
      "INFO:root:Starting request #289\n",
      "INFO:root:Starting request #290\n",
      "INFO:root:Starting request #291\n",
      "INFO:root:Starting request #292\n",
      "INFO:root:Starting request #293\n",
      "INFO:root:Starting request #294\n",
      "INFO:root:Starting request #295\n",
      "INFO:root:Starting request #296\n",
      "INFO:root:Starting request #297\n",
      "INFO:root:Starting request #298\n",
      "INFO:root:Starting request #299\n",
      "INFO:root:Starting request #300\n",
      "INFO:root:Starting request #301\n",
      "INFO:root:Starting request #302\n",
      "INFO:root:Starting request #303\n",
      "INFO:root:Starting request #304\n",
      "INFO:root:Starting request #305\n",
      "INFO:root:Starting request #306\n",
      "INFO:root:Starting request #307\n",
      "INFO:root:Starting request #308\n",
      "INFO:root:Starting request #309\n",
      "INFO:root:Starting request #310\n",
      "INFO:root:Starting request #311\n",
      "INFO:root:Starting request #312\n",
      "INFO:root:Parallel processing complete. Results saved to requests_to_parallel_process_results.jsonl\n"
     ]
    }
   ],
   "source": [
    "! python api_request_parallel_processor.py \\\n",
    "  --requests_filepath requests_to_parallel_process.jsonl \\\n",
    "  --save_filepath requests_to_parallel_process_results.jsonl \\\n",
    "  --request_url https://api.openai.com/v1/embeddings \\\n",
    "  --max_requests_per_minute 2500 \\\n",
    "  --max_tokens_per_minute 900000 \\\n",
    "  --token_encoding_name cl100k_base \\\n",
    "  --max_attempts 5 \\\n",
    "  --logging_level 20"
   ]
  },
  {
   "cell_type": "markdown",
   "metadata": {},
   "source": [
    "Create PointStructures for Qdrant database"
   ]
  },
  {
   "cell_type": "code",
   "execution_count": 11,
   "metadata": {},
   "outputs": [],
   "source": [
    "embeddings_path = \"./requests_to_parallel_process_results.jsonl\"\n",
    "with open(embeddings_path, \"r\", encoding=\"utf-8\") as file:\n",
    "    embeddings = []\n",
    "    for line in file:\n",
    "        embeddings.append(json.loads(line))"
   ]
  },
  {
   "cell_type": "code",
   "execution_count": 12,
   "metadata": {},
   "outputs": [],
   "source": [
    "embeddings_lookup = {}\n",
    "for item in embeddings:\n",
    "    text = item[0][\"input\"]\n",
    "    article_name = text.split(\". \")[0]\n",
    "    embedding = item[1][\"data\"][0][\"embedding\"]\n",
    "    embeddings_lookup[article_name] = {\"embedding\": embedding, \"text\": text}"
   ]
  },
  {
   "cell_type": "code",
   "execution_count": 16,
   "metadata": {},
   "outputs": [],
   "source": [
    "points = []\n",
    "\n",
    "for id, dictionary in enumerate(raw_data):\n",
    "    title = dictionary[\"title\"]\n",
    "    link = dictionary[\"link\"]\n",
    "    if title in embeddings_lookup:\n",
    "        embedding, text = (\n",
    "            embeddings_lookup[title][\"embedding\"],\n",
    "            embeddings_lookup[title][\"text\"],\n",
    "        )\n",
    "        points.append(\n",
    "            PointStruct(\n",
    "                id=id,\n",
    "                vector=embedding,\n",
    "                payload={\"title\": title, \"text\": text, \"link\": link},\n",
    "            )\n",
    "        )\n",
    "    else:\n",
    "        print(\n",
    "            f\"Warning: No embedding found for title '{title}'. This item will be skipped.\"\n",
    "        )"
   ]
  },
  {
   "cell_type": "markdown",
   "metadata": {},
   "source": [
    "# Create Vector database"
   ]
  },
  {
   "cell_type": "code",
   "execution_count": 17,
   "metadata": {},
   "outputs": [
    {
     "name": "stderr",
     "output_type": "stream",
     "text": [
      "\u001b[32m2024-03-23 22:15:21.809\u001b[0m | \u001b[1mINFO    \u001b[0m | \u001b[36mutils\u001b[0m:\u001b[36mcreate_collection\u001b[0m:\u001b[36m30\u001b[0m - \u001b[1mCreating collection: labor_law with vector size: 1536.\u001b[0m\n"
     ]
    },
    {
     "data": {
      "text/plain": [
       "True"
      ]
     },
     "execution_count": 17,
     "metadata": {},
     "output_type": "execute_result"
    }
   ],
   "source": [
    "collection_name = \"labor_law\"\n",
    "create_collection(name=collection_name)"
   ]
  },
  {
   "cell_type": "code",
   "execution_count": 18,
   "metadata": {},
   "outputs": [
    {
     "data": {
      "text/plain": [
       "UpdateResult(operation_id=0, status=<UpdateStatus.COMPLETED: 'completed'>)"
      ]
     },
     "execution_count": 18,
     "metadata": {},
     "output_type": "execute_result"
    }
   ],
   "source": [
    "upsert(collection=collection_name, points=points)"
   ]
  },
  {
   "cell_type": "code",
   "execution_count": 19,
   "metadata": {},
   "outputs": [
    {
     "data": {
      "text/plain": [
       "{'status': <CollectionStatus.GREEN: 'green'>,\n",
       " 'optimizer_status': <OptimizersStatusOneOf.OK: 'ok'>,\n",
       " 'vectors_count': 313,\n",
       " 'indexed_vectors_count': 0,\n",
       " 'points_count': 313,\n",
       " 'segments_count': 2,\n",
       " 'config': {'params': {'vectors': {'size': 1536,\n",
       "    'distance': <Distance.COSINE: 'Cosine'>,\n",
       "    'hnsw_config': None,\n",
       "    'quantization_config': None,\n",
       "    'on_disk': None},\n",
       "   'shard_number': 1,\n",
       "   'sharding_method': None,\n",
       "   'replication_factor': 1,\n",
       "   'write_consistency_factor': 1,\n",
       "   'read_fan_out_factor': None,\n",
       "   'on_disk_payload': True,\n",
       "   'sparse_vectors': None},\n",
       "  'hnsw_config': {'m': 16,\n",
       "   'ef_construct': 100,\n",
       "   'full_scan_threshold': 10000,\n",
       "   'max_indexing_threads': 0,\n",
       "   'on_disk': False,\n",
       "   'payload_m': None},\n",
       "  'optimizer_config': {'deleted_threshold': 0.2,\n",
       "   'vacuum_min_vector_number': 1000,\n",
       "   'default_segment_number': 0,\n",
       "   'max_segment_size': None,\n",
       "   'memmap_threshold': None,\n",
       "   'indexing_threshold': 20000,\n",
       "   'flush_interval_sec': 5,\n",
       "   'max_optimization_threads': None},\n",
       "  'wal_config': {'wal_capacity_mb': 32, 'wal_segments_ahead': 0},\n",
       "  'quantization_config': None},\n",
       " 'payload_schema': {}}"
      ]
     },
     "execution_count": 19,
     "metadata": {},
     "output_type": "execute_result"
    }
   ],
   "source": [
    "get_collection_info(collection=collection_name)"
   ]
  },
  {
   "cell_type": "code",
   "execution_count": 20,
   "metadata": {},
   "outputs": [
    {
     "data": {
      "text/plain": [
       "313"
      ]
     },
     "execution_count": 20,
     "metadata": {},
     "output_type": "execute_result"
    }
   ],
   "source": [
    "get_count(collection=collection_name)"
   ]
  },
  {
   "cell_type": "markdown",
   "metadata": {},
   "source": [
    "# Search the Vector database "
   ]
  },
  {
   "cell_type": "code",
   "execution_count": 21,
   "metadata": {},
   "outputs": [],
   "source": [
    "query = \"Koliko dana godišnjeg odmora zaposleni u Srbiji ima po zakonu?\""
   ]
  },
  {
   "cell_type": "code",
   "execution_count": 22,
   "metadata": {},
   "outputs": [],
   "source": [
    "response = embed_text(query)"
   ]
  },
  {
   "cell_type": "code",
   "execution_count": 23,
   "metadata": {},
   "outputs": [],
   "source": [
    "query_vector = response.data[0].embedding"
   ]
  },
  {
   "cell_type": "code",
   "execution_count": 25,
   "metadata": {},
   "outputs": [],
   "source": [
    "response = search(\n",
    "    collection=collection_name, query_vector=query_vector, with_vectors=True\n",
    ")"
   ]
  },
  {
   "cell_type": "code",
   "execution_count": 27,
   "metadata": {},
   "outputs": [
    {
     "data": {
      "text/plain": [
       "[{'link': 'https://www.paragraf.rs/propisi/zakon_o_radu.html#clan_69',\n",
       "  'text': 'Član 69. U svakoj kalendarskoj godini zaposleni ima pravo na godišnji odmor u trajanju utvrđenom opštim aktom i ugovorom o radu, a najmanje 20 radnih dana. Dužina godišnjeg odmora utvrđuje se tako što se zakonski minimum od 20 radnih dana uvećava po osnovu doprinosa na radu, uslova rada, radnog iskustva, stručne spreme zaposlenog i drugih kriterijuma utvrđenih opštim aktom ili ugovorom o radu.',\n",
       "  'title': 'Član 69'},\n",
       " {'link': 'https://www.paragraf.rs/propisi/zakon_o_radu.html#clan_68',\n",
       "  'text': 'Član 68. Zaposleni ima pravo na godišnji odmor u skladu sa ovim zakonom. Zaposleni stiče pravo na korišćenje godišnjeg odmora u kalendarskoj godini posle mesec dana neprekidnog rada od dana zasnivanja radnog odnosa kod poslodavca. Pod neprekidnim radom smatra se i vreme privremene sprečenosti za rad u smislu propisa o zdravstvenom osiguranju i odsustva sa rada uz naknadu zarade. Zaposleni ne može da se odrekne prava na godišnji odmor, niti mu se to pravo može uskratiti ili zameniti novčanom naknadom, osim u slučaju prestanka radnog odnosa u skladu sa ovim zakonom.',\n",
       "  'title': 'Član 68'},\n",
       " {'link': 'https://www.paragraf.rs/propisi/zakon_o_radu.html#clan_72',\n",
       "  'text': 'Član 72. Zaposleni ima pravo na dvanaestinu godišnjeg odmora iz člana 69. ovog zakona (srazmerni deo) za svaki mesec dana rada u kalendarskoj godini u kojoj je zasnovao radni odnos ili u kojoj mu prestaje radni odnos.',\n",
       "  'title': 'Član 72'},\n",
       " {'link': 'https://www.paragraf.rs/propisi/zakon_o_radu.html#clan_66',\n",
       "  'text': 'Član 66. Zaposleni ima pravo na odmor  u trajanju od najmanje 12 časova neprekidno u okviru 24 časa, ako ovim zakonom nije drukčije određeno. Zaposleni koji radi u smislu člana 57. ovog zakona ima pravo na odmor u okviru 24 časa u neprekidnom trajanju od najmanje 11 časova.',\n",
       "  'title': 'Član 66'},\n",
       " {'link': 'https://www.paragraf.rs/propisi/zakon_o_radu.html#clan_280',\n",
       "  'text': 'Član 280. Zaposleni koji na dan stupanja na snagu ovog zakona nije u celini iskoristio godišnji odmor za 2004. godinu, godišnji odmor za tu godinu koristi po propisima koji su bili na snazi do dana stupanja na snagu ovog zakona, ako je to za zaposlenog povoljnije.',\n",
       "  'title': 'Član 280'},\n",
       " {'link': 'https://www.paragraf.rs/propisi/zakon_o_radu.html#clan_70',\n",
       "  'text': 'Član 70. Pri utvrđivanju dužine godišnjeg odmora radna nedelja računa se kao pet radnih dana. Praznici koji su neradni dani u skladu sa zakonom, odsustvo sa rada uz naknadu zarade i privremena sprečenost za rad u skladu sa propisima o zdravstvenom osiguranju ne uračunavaju se u dane godišnjeg odmora. Ako je zaposleni za vreme korišćenja godišnjeg odmora privremeno sprečen za rad u smislu propisa o zdravstvenom osiguranju - ima pravo da po isteku te sprečenosti za rad nastavi korišćenje godišnjeg odmora.',\n",
       "  'title': 'Član 70'},\n",
       " {'link': 'https://www.paragraf.rs/propisi/zakon_o_radu.html#clan_67',\n",
       "  'text': 'Član 67. Zaposleni ima pravo na nedeljni odmor u trajanju od najmanje 24 časa neprekidno kojem se dodaje vreme odmora iz člana 66. ovog zakona, ako zakonom nije drukčije određeno. Nedeljni odmor se, po pravilu, koristi nedeljom. Poslodavac može da odredi drugi dan za korišćenje nedeljnog odmora ako priroda posla i organizacija rada to zahteva. Izuzetno od stava 1. ovog člana, zaposleni koji zbog obavljanja posla u različitim smenama ili u preraspodeli radnog vremena ne može da koristi odmor u trajanju utvrđenom u stavu 1. ovog člana, ima pravo na nedeljni odmor u trajanju od najmanje 24 časa neprekidno. Ako je neophodno da zaposleni radi na dan svog nedeljnog odmora, poslodavac je dužan da mu obezbedi odmor u trajanju od najmanje 24 časa neprekidno u toku naredne nedelje.',\n",
       "  'title': 'Član 67'},\n",
       " {'link': 'https://www.paragraf.rs/propisi/zakon_o_radu.html#clan_73',\n",
       "  'text': 'Član 73. Godišnji odmor koristi se jednokratno ili u dva ili više delova, u skladu sa ovim zakonom. Ako zaposleni koristi godišnji odmor u delovima, prvi deo koristi u trajanju od najmanje dve radne nedelje neprekidno u toku kalendarske godine, a ostatak najkasnije do 30. juna naredne godine. Zaposleni ima pravo da godišnji odmor koristi u dva dela, osim ako se sa poslodavcem sporazume da godišnji odmor koristi u više delova. Zaposleni koji nije u celini ili delimično iskoristio godišnji odmor u kalendarskoj godini zbog odsutnosti sa rada radi korišćenja porodiljskog odsustva, odsustva sa rada radi nege deteta i posebne nege deteta - ima pravo da taj odmor iskoristi do 30. juna naredne godine.',\n",
       "  'title': 'Član 73'},\n",
       " {'link': 'https://www.paragraf.rs/propisi/zakon_o_radu.html#clan_64',\n",
       "  'text': 'Član 64. Zaposleni koji radi najmanje šest časova dnevno ima pravo na odmor u toku dnevnog rada u trajanju od najmanje 30 minuta. Zaposleni koji radi duže od četiri, a kraće od šest časova dnevno ima pravo na odmor u toku rada u trajanju od najmanje 15 minuta. Zaposleni koji radi duže od  10 časova dnevno, ima pravo na odmor u toku rada u trajanju od najmanje 45 minuta. Odmor u toku dnevnog rada ne može da se koristi na početku i na kraju radnog vremena. Vreme odmora iz st. 1-3. ovog člana uračunava se u radno vreme.',\n",
       "  'title': 'Član 64'},\n",
       " {'link': 'https://www.paragraf.rs/propisi/zakon_o_radu.html#clan_75',\n",
       "  'text': 'Član 75. U zavisnosti od potrebe posla, poslodavac odlučuje o vremenu korišćenja godišnjeg odmora, uz prethodnu konsultaciju zaposlenog. Rešenje o korišćenju godišnjeg odmora zaposlenom se dostavlja najkasnije 15 dana pre datuma određenog za početak korišćenja godišnjeg odmora. Izuzetno, ako se godišnji odmor koristi na zahtev zaposlenog, rešenje o korišćenju godišnjeg odmora poslodavac može dostaviti i neposredno pre korišćenja godišnjeg odmora. Poslodavac može da izmeni vreme određeno za korišćenje godišnjeg odmora ako to zahtevaju potrebe posla, najkasnije pet radnih dana pre dana određenog za korišćenje godišnjeg odmora. U slučaju korišćenja kolektivnog godišnjeg odmora kod poslodavca ili u organizacionom delu poslodavca, poslodavac može da donese rešenje o godišnjem odmoru u kome navodi zaposlene i organizacione delove u kojima rade i da isto istakne na oglasnoj tabli, najmanje 15 dana pre dana određenog za korišćenje godišnjeg odmora, čime se smatra da je rešenje uručeno zaposlenima. Rešenje o korišćenju godišnjeg odmora poslodavac može dostaviti zaposlenom u elektronskoj formi, a na zahtev zaposlenog poslodavac je dužan da to rešenje dostavi i u pisanoj formi.',\n",
       "  'title': 'Član 75'}]"
      ]
     },
     "execution_count": 27,
     "metadata": {},
     "output_type": "execute_result"
    }
   ],
   "source": [
    "[point.payload for point in response]"
   ]
  },
  {
   "cell_type": "code",
   "execution_count": null,
   "metadata": {},
   "outputs": [],
   "source": []
  }
 ],
 "metadata": {
  "kernelspec": {
   "display_name": "venv",
   "language": "python",
   "name": "python3"
  },
  "language_info": {
   "codemirror_mode": {
    "name": "ipython",
    "version": 3
   },
   "file_extension": ".py",
   "mimetype": "text/x-python",
   "name": "python",
   "nbconvert_exporter": "python",
   "pygments_lexer": "ipython3",
   "version": "3.10.13"
  }
 },
 "nbformat": 4,
 "nbformat_minor": 2
}
