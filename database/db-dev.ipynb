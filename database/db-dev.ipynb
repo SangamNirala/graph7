{
 "cells": [
  {
   "cell_type": "code",
   "execution_count": 1,
   "metadata": {},
   "outputs": [
    {
     "data": {
      "text/plain": [
       "True"
      ]
     },
     "execution_count": 1,
     "metadata": {},
     "output_type": "execute_result"
    }
   ],
   "source": [
    "import json\n",
    "from pprint import pprint\n",
    "\n",
    "from config import EMBEDDING_MODEL\n",
    "from dotenv import find_dotenv, load_dotenv\n",
    "from qdrant_client.http.models import PointStruct\n",
    "from utils import (\n",
    "    create_collection,\n",
    "    embed_text,\n",
    "    get_collection_info,\n",
    "    get_count,\n",
    "    search,\n",
    "    upsert,\n",
    ")\n",
    "\n",
    "load_dotenv(find_dotenv())"
   ]
  },
  {
   "cell_type": "code",
   "execution_count": 14,
   "metadata": {},
   "outputs": [],
   "source": [
    "raw_data_path = \"../scraper/srb_labor_law_data.json\""
   ]
  },
  {
   "cell_type": "code",
   "execution_count": 15,
   "metadata": {},
   "outputs": [],
   "source": [
    "with open(raw_data_path, \"r\", encoding=\"utf-8\") as file:\n",
    "    raw_data = json.loads(file.read())"
   ]
  },
  {
   "cell_type": "markdown",
   "metadata": {},
   "source": [
    "## Embedd data"
   ]
  },
  {
   "cell_type": "markdown",
   "metadata": {},
   "source": [
    "Create JSONL for parallel embedding"
   ]
  },
  {
   "cell_type": "code",
   "execution_count": 42,
   "metadata": {},
   "outputs": [],
   "source": [
    "filename = \"./requests_to_parallel_process.jsonl\"\n",
    "jobs = [\n",
    "    {\n",
    "        \"model\": EMBEDDING_MODEL,\n",
    "        \"input\": \". \".join([sample[\"title\"], \" \".join(sample[\"texts\"])]),\n",
    "    }\n",
    "    for sample in raw_data\n",
    "]\n",
    "with open(filename, \"w\") as f:\n",
    "    for job in jobs:\n",
    "        json_string = json.dumps(job)\n",
    "        f.write(json_string + \"\\n\")"
   ]
  },
  {
   "cell_type": "code",
   "execution_count": null,
   "metadata": {},
   "outputs": [],
   "source": [
    "! python api_request_parallel_processor.py \\\n",
    "  --requests_filepath requests_to_parallel_process.jsonl \\\n",
    "  --save_filepath requests_to_parallel_process_results.jsonl \\\n",
    "  --request_url https://api.openai.com/v1/embeddings \\\n",
    "  --max_requests_per_minute 2500 \\\n",
    "  --max_tokens_per_minute 900000 \\\n",
    "  --token_encoding_name cl100k_base \\\n",
    "  --max_attempts 5 \\\n",
    "  --logging_level 20"
   ]
  },
  {
   "cell_type": "markdown",
   "metadata": {},
   "source": [
    "Create PointStructures for Qdrant database"
   ]
  },
  {
   "cell_type": "code",
   "execution_count": 11,
   "metadata": {},
   "outputs": [],
   "source": [
    "embeddings_path = \"./requests_to_parallel_process_results.jsonl\"\n",
    "with open(embeddings_path, \"r\", encoding=\"utf-8\") as file:\n",
    "    embeddings = []\n",
    "    for line in file:\n",
    "        embeddings.append(json.loads(line))"
   ]
  },
  {
   "cell_type": "code",
   "execution_count": 12,
   "metadata": {},
   "outputs": [],
   "source": [
    "embeddings_lookup = {}\n",
    "for item in embeddings:\n",
    "    text = item[0][\"input\"]\n",
    "    article_name = text.split(\". \")[0]\n",
    "    embedding = item[1][\"data\"][0][\"embedding\"]\n",
    "    embeddings_lookup[article_name] = {\"embedding\": embedding, \"text\": text}"
   ]
  },
  {
   "cell_type": "code",
   "execution_count": 16,
   "metadata": {},
   "outputs": [],
   "source": [
    "points = []\n",
    "\n",
    "for id, dictionary in enumerate(raw_data):\n",
    "    title = dictionary[\"title\"]\n",
    "    link = dictionary[\"link\"]\n",
    "    if title in embeddings_lookup:\n",
    "        embedding, text = (\n",
    "            embeddings_lookup[title][\"embedding\"],\n",
    "            embeddings_lookup[title][\"text\"],\n",
    "        )\n",
    "        points.append(\n",
    "            PointStruct(\n",
    "                id=id,\n",
    "                vector=embedding,\n",
    "                payload={\"title\": title, \"text\": text, \"link\": link},\n",
    "            )\n",
    "        )\n",
    "    else:\n",
    "        print(\n",
    "            f\"Warning: No embedding found for title '{title}'. This item will be skipped.\"\n",
    "        )"
   ]
  },
  {
   "cell_type": "markdown",
   "metadata": {},
   "source": [
    "# Create Vector database"
   ]
  },
  {
   "cell_type": "code",
   "execution_count": 17,
   "metadata": {},
   "outputs": [
    {
     "name": "stderr",
     "output_type": "stream",
     "text": [
      "\u001b[32m2024-03-23 22:15:21.809\u001b[0m | \u001b[1mINFO    \u001b[0m | \u001b[36mutils\u001b[0m:\u001b[36mcreate_collection\u001b[0m:\u001b[36m30\u001b[0m - \u001b[1mCreating collection: labor_law with vector size: 1536.\u001b[0m\n"
     ]
    },
    {
     "data": {
      "text/plain": [
       "True"
      ]
     },
     "execution_count": 17,
     "metadata": {},
     "output_type": "execute_result"
    }
   ],
   "source": [
    "collection_name = \"labor_law\"\n",
    "create_collection(name=collection_name)"
   ]
  },
  {
   "cell_type": "code",
   "execution_count": 18,
   "metadata": {},
   "outputs": [
    {
     "data": {
      "text/plain": [
       "UpdateResult(operation_id=0, status=<UpdateStatus.COMPLETED: 'completed'>)"
      ]
     },
     "execution_count": 18,
     "metadata": {},
     "output_type": "execute_result"
    }
   ],
   "source": [
    "upsert(collection=collection_name, points=points)"
   ]
  },
  {
   "cell_type": "code",
   "execution_count": 19,
   "metadata": {},
   "outputs": [
    {
     "data": {
      "text/plain": [
       "{'status': <CollectionStatus.GREEN: 'green'>,\n",
       " 'optimizer_status': <OptimizersStatusOneOf.OK: 'ok'>,\n",
       " 'vectors_count': 313,\n",
       " 'indexed_vectors_count': 0,\n",
       " 'points_count': 313,\n",
       " 'segments_count': 2,\n",
       " 'config': {'params': {'vectors': {'size': 1536,\n",
       "    'distance': <Distance.COSINE: 'Cosine'>,\n",
       "    'hnsw_config': None,\n",
       "    'quantization_config': None,\n",
       "    'on_disk': None},\n",
       "   'shard_number': 1,\n",
       "   'sharding_method': None,\n",
       "   'replication_factor': 1,\n",
       "   'write_consistency_factor': 1,\n",
       "   'read_fan_out_factor': None,\n",
       "   'on_disk_payload': True,\n",
       "   'sparse_vectors': None},\n",
       "  'hnsw_config': {'m': 16,\n",
       "   'ef_construct': 100,\n",
       "   'full_scan_threshold': 10000,\n",
       "   'max_indexing_threads': 0,\n",
       "   'on_disk': False,\n",
       "   'payload_m': None},\n",
       "  'optimizer_config': {'deleted_threshold': 0.2,\n",
       "   'vacuum_min_vector_number': 1000,\n",
       "   'default_segment_number': 0,\n",
       "   'max_segment_size': None,\n",
       "   'memmap_threshold': None,\n",
       "   'indexing_threshold': 20000,\n",
       "   'flush_interval_sec': 5,\n",
       "   'max_optimization_threads': None},\n",
       "  'wal_config': {'wal_capacity_mb': 32, 'wal_segments_ahead': 0},\n",
       "  'quantization_config': None},\n",
       " 'payload_schema': {}}"
      ]
     },
     "execution_count": 19,
     "metadata": {},
     "output_type": "execute_result"
    }
   ],
   "source": [
    "get_collection_info(collection=collection_name)"
   ]
  },
  {
   "cell_type": "code",
   "execution_count": 20,
   "metadata": {},
   "outputs": [
    {
     "data": {
      "text/plain": [
       "313"
      ]
     },
     "execution_count": 20,
     "metadata": {},
     "output_type": "execute_result"
    }
   ],
   "source": [
    "get_count(collection=collection_name)"
   ]
  },
  {
   "cell_type": "markdown",
   "metadata": {},
   "source": [
    "# Search the Vector database "
   ]
  },
  {
   "cell_type": "code",
   "execution_count": 21,
   "metadata": {},
   "outputs": [],
   "source": [
    "query = \"Koliko dana godišnjeg odmora zaposleni u Srbiji ima po zakonu?\""
   ]
  },
  {
   "cell_type": "code",
   "execution_count": 22,
   "metadata": {},
   "outputs": [],
   "source": [
    "response = embed_text(query)"
   ]
  },
  {
   "cell_type": "code",
   "execution_count": 23,
   "metadata": {},
   "outputs": [],
   "source": [
    "query_vector = response.data[0].embedding"
   ]
  },
  {
   "cell_type": "code",
   "execution_count": 25,
   "metadata": {},
   "outputs": [],
   "source": [
    "response = search(\n",
    "    collection=collection_name, query_vector=query_vector, with_vectors=True\n",
    ")"
   ]
  },
  {
   "cell_type": "code",
   "execution_count": 28,
   "metadata": {},
   "outputs": [
    {
     "name": "stdout",
     "output_type": "stream",
     "text": [
      "[{'link': 'https://www.paragraf.rs/propisi/zakon_o_radu.html#clan_69',\n",
      "  'text': 'Član 69. U svakoj kalendarskoj godini zaposleni ima pravo na '\n",
      "          'godišnji odmor u trajanju utvrđenom opštim aktom i ugovorom o radu, '\n",
      "          'a najmanje 20 radnih dana. Dužina godišnjeg odmora utvrđuje se tako '\n",
      "          'što se zakonski minimum od 20 radnih dana uvećava po osnovu '\n",
      "          'doprinosa na radu, uslova rada, radnog iskustva, stručne spreme '\n",
      "          'zaposlenog i drugih kriterijuma utvrđenih opštim aktom ili ugovorom '\n",
      "          'o radu.',\n",
      "  'title': 'Član 69'},\n",
      " {'link': 'https://www.paragraf.rs/propisi/zakon_o_radu.html#clan_68',\n",
      "  'text': 'Član 68. Zaposleni ima pravo na godišnji odmor u skladu sa ovim '\n",
      "          'zakonom. Zaposleni stiče pravo na korišćenje godišnjeg odmora u '\n",
      "          'kalendarskoj godini posle mesec dana neprekidnog rada od dana '\n",
      "          'zasnivanja radnog odnosa kod poslodavca. Pod neprekidnim radom '\n",
      "          'smatra se i vreme privremene sprečenosti za rad u smislu propisa o '\n",
      "          'zdravstvenom osiguranju i odsustva sa rada uz naknadu zarade. '\n",
      "          'Zaposleni ne može da se odrekne prava na godišnji odmor, niti mu se '\n",
      "          'to pravo može uskratiti ili zameniti novčanom naknadom, osim u '\n",
      "          'slučaju prestanka radnog odnosa u skladu sa ovim zakonom.',\n",
      "  'title': 'Član 68'},\n",
      " {'link': 'https://www.paragraf.rs/propisi/zakon_o_radu.html#clan_72',\n",
      "  'text': 'Član 72. Zaposleni ima pravo na dvanaestinu godišnjeg odmora iz '\n",
      "          'člana 69. ovog zakona (srazmerni deo) za svaki mesec dana rada u '\n",
      "          'kalendarskoj godini u kojoj je zasnovao radni odnos ili u kojoj mu '\n",
      "          'prestaje radni odnos.',\n",
      "  'title': 'Član 72'},\n",
      " {'link': 'https://www.paragraf.rs/propisi/zakon_o_radu.html#clan_66',\n",
      "  'text': 'Član 66. Zaposleni ima pravo na odmor  u trajanju od najmanje 12 '\n",
      "          'časova neprekidno u okviru 24 časa, ako ovim zakonom nije drukčije '\n",
      "          'određeno. Zaposleni koji radi u smislu člana 57. ovog zakona ima '\n",
      "          'pravo na odmor u okviru 24 časa u neprekidnom trajanju od najmanje '\n",
      "          '11 časova.',\n",
      "  'title': 'Član 66'},\n",
      " {'link': 'https://www.paragraf.rs/propisi/zakon_o_radu.html#clan_280',\n",
      "  'text': 'Član 280. Zaposleni koji na dan stupanja na snagu ovog zakona nije '\n",
      "          'u celini iskoristio godišnji odmor za 2004. godinu, godišnji odmor '\n",
      "          'za tu godinu koristi po propisima koji su bili na snazi do dana '\n",
      "          'stupanja na snagu ovog zakona, ako je to za zaposlenog povoljnije.',\n",
      "  'title': 'Član 280'},\n",
      " {'link': 'https://www.paragraf.rs/propisi/zakon_o_radu.html#clan_70',\n",
      "  'text': 'Član 70. Pri utvrđivanju dužine godišnjeg odmora radna nedelja '\n",
      "          'računa se kao pet radnih dana. Praznici koji su neradni dani u '\n",
      "          'skladu sa zakonom, odsustvo sa rada uz naknadu zarade i privremena '\n",
      "          'sprečenost za rad u skladu sa propisima o zdravstvenom osiguranju '\n",
      "          'ne uračunavaju se u dane godišnjeg odmora. Ako je zaposleni za '\n",
      "          'vreme korišćenja godišnjeg odmora privremeno sprečen za rad u '\n",
      "          'smislu propisa o zdravstvenom osiguranju - ima pravo da po isteku '\n",
      "          'te sprečenosti za rad nastavi korišćenje godišnjeg odmora.',\n",
      "  'title': 'Član 70'},\n",
      " {'link': 'https://www.paragraf.rs/propisi/zakon_o_radu.html#clan_67',\n",
      "  'text': 'Član 67. Zaposleni ima pravo na nedeljni odmor u trajanju od '\n",
      "          'najmanje 24 časa neprekidno kojem se dodaje vreme odmora iz člana '\n",
      "          '66. ovog zakona, ako zakonom nije drukčije određeno. Nedeljni odmor '\n",
      "          'se, po pravilu, koristi nedeljom. Poslodavac može da odredi drugi '\n",
      "          'dan za korišćenje nedeljnog odmora ako priroda posla i organizacija '\n",
      "          'rada to zahteva. Izuzetno od stava 1. ovog člana, zaposleni koji '\n",
      "          'zbog obavljanja posla u različitim smenama ili u preraspodeli '\n",
      "          'radnog vremena ne može da koristi odmor u trajanju utvrđenom u '\n",
      "          'stavu 1. ovog člana, ima pravo na nedeljni odmor u trajanju od '\n",
      "          'najmanje 24 časa neprekidno. Ako je neophodno da zaposleni radi na '\n",
      "          'dan svog nedeljnog odmora, poslodavac je dužan da mu obezbedi odmor '\n",
      "          'u trajanju od najmanje 24 časa neprekidno u toku naredne nedelje.',\n",
      "  'title': 'Član 67'},\n",
      " {'link': 'https://www.paragraf.rs/propisi/zakon_o_radu.html#clan_73',\n",
      "  'text': 'Član 73. Godišnji odmor koristi se jednokratno ili u dva ili više '\n",
      "          'delova, u skladu sa ovim zakonom. Ako zaposleni koristi godišnji '\n",
      "          'odmor u delovima, prvi deo koristi u trajanju od najmanje dve radne '\n",
      "          'nedelje neprekidno u toku kalendarske godine, a ostatak najkasnije '\n",
      "          'do 30. juna naredne godine. Zaposleni ima pravo da godišnji odmor '\n",
      "          'koristi u dva dela, osim ako se sa poslodavcem sporazume da '\n",
      "          'godišnji odmor koristi u više delova. Zaposleni koji nije u celini '\n",
      "          'ili delimično iskoristio godišnji odmor u kalendarskoj godini zbog '\n",
      "          'odsutnosti sa rada radi korišćenja porodiljskog odsustva, odsustva '\n",
      "          'sa rada radi nege deteta i posebne nege deteta - ima pravo da taj '\n",
      "          'odmor iskoristi do 30. juna naredne godine.',\n",
      "  'title': 'Član 73'},\n",
      " {'link': 'https://www.paragraf.rs/propisi/zakon_o_radu.html#clan_64',\n",
      "  'text': 'Član 64. Zaposleni koji radi najmanje šest časova dnevno ima pravo '\n",
      "          'na odmor u toku dnevnog rada u trajanju od najmanje 30 minuta. '\n",
      "          'Zaposleni koji radi duže od četiri, a kraće od šest časova dnevno '\n",
      "          'ima pravo na odmor u toku rada u trajanju od najmanje 15 minuta. '\n",
      "          'Zaposleni koji radi duže od  10 časova dnevno, ima pravo na odmor u '\n",
      "          'toku rada u trajanju od najmanje 45 minuta. Odmor u toku dnevnog '\n",
      "          'rada ne može da se koristi na početku i na kraju radnog vremena. '\n",
      "          'Vreme odmora iz st. 1-3. ovog člana uračunava se u radno vreme.',\n",
      "  'title': 'Član 64'},\n",
      " {'link': 'https://www.paragraf.rs/propisi/zakon_o_radu.html#clan_75',\n",
      "  'text': 'Član 75. U zavisnosti od potrebe posla, poslodavac odlučuje o '\n",
      "          'vremenu korišćenja godišnjeg odmora, uz prethodnu konsultaciju '\n",
      "          'zaposlenog. Rešenje o korišćenju godišnjeg odmora zaposlenom se '\n",
      "          'dostavlja najkasnije 15 dana pre datuma određenog za početak '\n",
      "          'korišćenja godišnjeg odmora. Izuzetno, ako se godišnji odmor '\n",
      "          'koristi na zahtev zaposlenog, rešenje o korišćenju godišnjeg odmora '\n",
      "          'poslodavac može dostaviti i neposredno pre korišćenja godišnjeg '\n",
      "          'odmora. Poslodavac može da izmeni vreme određeno za korišćenje '\n",
      "          'godišnjeg odmora ako to zahtevaju potrebe posla, najkasnije pet '\n",
      "          'radnih dana pre dana određenog za korišćenje godišnjeg odmora. U '\n",
      "          'slučaju korišćenja kolektivnog godišnjeg odmora kod poslodavca ili '\n",
      "          'u organizacionom delu poslodavca, poslodavac može da donese rešenje '\n",
      "          'o godišnjem odmoru u kome navodi zaposlene i organizacione delove u '\n",
      "          'kojima rade i da isto istakne na oglasnoj tabli, najmanje 15 dana '\n",
      "          'pre dana određenog za korišćenje godišnjeg odmora, čime se smatra '\n",
      "          'da je rešenje uručeno zaposlenima. Rešenje o korišćenju godišnjeg '\n",
      "          'odmora poslodavac može dostaviti zaposlenom u elektronskoj formi, a '\n",
      "          'na zahtev zaposlenog poslodavac je dužan da to rešenje dostavi i u '\n",
      "          'pisanoj formi.',\n",
      "  'title': 'Član 75'}]\n"
     ]
    }
   ],
   "source": [
    "pprint([point.payload for point in response])"
   ]
  },
  {
   "cell_type": "code",
   "execution_count": null,
   "metadata": {},
   "outputs": [],
   "source": []
  }
 ],
 "metadata": {
  "kernelspec": {
   "display_name": "venv",
   "language": "python",
   "name": "python3"
  },
  "language_info": {
   "codemirror_mode": {
    "name": "ipython",
    "version": 3
   },
   "file_extension": ".py",
   "mimetype": "text/x-python",
   "name": "python",
   "nbconvert_exporter": "python",
   "pygments_lexer": "ipython3",
   "version": "3.10.13"
  }
 },
 "nbformat": 4,
 "nbformat_minor": 2
}
