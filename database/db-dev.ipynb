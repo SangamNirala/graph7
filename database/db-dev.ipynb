{
 "cells": [
  {
   "cell_type": "code",
   "execution_count": 30,
   "metadata": {},
   "outputs": [
    {
     "data": {
      "text/plain": [
       "True"
      ]
     },
     "execution_count": 30,
     "metadata": {},
     "output_type": "execute_result"
    }
   ],
   "source": [
    "import json\n",
    "from pathlib import Path\n",
    "from pprint import pprint\n",
    "\n",
    "from config import EMBEDDING_MODEL\n",
    "from dotenv import find_dotenv, load_dotenv\n",
    "from qdrant_client.http.models import PointStruct\n",
    "from utils import (\n",
    "    create_collection,\n",
    "    embed_text,\n",
    "    get_collection_info,\n",
    "    get_count,\n",
    "    search,\n",
    "    upsert,\n",
    ")\n",
    "\n",
    "load_dotenv(find_dotenv())"
   ]
  },
  {
   "cell_type": "code",
   "execution_count": 14,
   "metadata": {},
   "outputs": [],
   "source": [
    "raw_data_path = Path(\"../scraper/srb_labor_law_data.json\")"
   ]
  },
  {
   "cell_type": "code",
   "execution_count": 15,
   "metadata": {},
   "outputs": [],
   "source": [
    "with open(raw_data_path, \"r\", encoding=\"utf-8\") as file:\n",
    "    raw_data = json.loads(file.read())"
   ]
  },
  {
   "cell_type": "markdown",
   "metadata": {},
   "source": [
    "## Embedd data"
   ]
  },
  {
   "cell_type": "markdown",
   "metadata": {},
   "source": [
    "Create JSONL for parallel embedding"
   ]
  },
  {
   "cell_type": "code",
   "execution_count": 42,
   "metadata": {},
   "outputs": [],
   "source": [
    "filename = Path(\"./requests_to_parallel_process.jsonl\")\n",
    "jobs = [\n",
    "    {\n",
    "        \"model\": EMBEDDING_MODEL,\n",
    "        \"input\": \". \".join([sample[\"title\"], \" \".join(sample[\"texts\"])]),\n",
    "    }\n",
    "    for sample in raw_data\n",
    "]\n",
    "with open(filename, \"w\") as f:\n",
    "    for job in jobs:\n",
    "        json_string = json.dumps(job)\n",
    "        f.write(json_string + \"\\n\")"
   ]
  },
  {
   "cell_type": "code",
   "execution_count": null,
   "metadata": {},
   "outputs": [],
   "source": [
    "! python api_request_parallel_processor.py \\\n",
    "  --requests_filepath requests_to_parallel_process.jsonl \\\n",
    "  --save_filepath requests_to_parallel_process_results.jsonl \\\n",
    "  --request_url https://api.openai.com/v1/embeddings \\\n",
    "  --max_requests_per_minute 2500 \\\n",
    "  --max_tokens_per_minute 900000 \\\n",
    "  --token_encoding_name cl100k_base \\\n",
    "  --max_attempts 5 \\\n",
    "  --logging_level 20"
   ]
  },
  {
   "cell_type": "markdown",
   "metadata": {},
   "source": [
    "Create PointStructures for Qdrant database"
   ]
  },
  {
   "cell_type": "code",
   "execution_count": 11,
   "metadata": {},
   "outputs": [],
   "source": [
    "embeddings_path = Path(\"./requests_to_parallel_process_results.jsonl\")\n",
    "with open(embeddings_path, \"r\", encoding=\"utf-8\") as file:\n",
    "    embeddings = []\n",
    "    for line in file:\n",
    "        embeddings.append(json.loads(line))"
   ]
  },
  {
   "cell_type": "code",
   "execution_count": 12,
   "metadata": {},
   "outputs": [],
   "source": [
    "embeddings_lookup = {}\n",
    "for item in embeddings:\n",
    "    text = item[0][\"input\"]\n",
    "    article_name = text.split(\". \")[0]\n",
    "    embedding = item[1][\"data\"][0][\"embedding\"]\n",
    "    embeddings_lookup[article_name] = {\"embedding\": embedding, \"text\": text}"
   ]
  },
  {
   "cell_type": "code",
   "execution_count": 16,
   "metadata": {},
   "outputs": [],
   "source": [
    "points = []\n",
    "\n",
    "for id, dictionary in enumerate(raw_data):\n",
    "    title = dictionary[\"title\"]\n",
    "    link = dictionary[\"link\"]\n",
    "    if title in embeddings_lookup:\n",
    "        embedding, text = (\n",
    "            embeddings_lookup[title][\"embedding\"],\n",
    "            embeddings_lookup[title][\"text\"],\n",
    "        )\n",
    "        points.append(\n",
    "            PointStruct(\n",
    "                id=id,\n",
    "                vector=embedding,\n",
    "                payload={\"title\": title, \"text\": text, \"link\": link},\n",
    "            )\n",
    "        )\n",
    "    else:\n",
    "        print(\n",
    "            f\"Warning: No embedding found for title '{title}'. This item will be skipped.\"\n",
    "        )"
   ]
  },
  {
   "cell_type": "markdown",
   "metadata": {},
   "source": [
    "# Create Vector database"
   ]
  },
  {
   "cell_type": "code",
   "execution_count": 17,
   "metadata": {},
   "outputs": [
    {
     "name": "stderr",
     "output_type": "stream",
     "text": [
      "\u001b[32m2024-03-23 22:15:21.809\u001b[0m | \u001b[1mINFO    \u001b[0m | \u001b[36mutils\u001b[0m:\u001b[36mcreate_collection\u001b[0m:\u001b[36m30\u001b[0m - \u001b[1mCreating collection: labor_law with vector size: 1536.\u001b[0m\n"
     ]
    },
    {
     "data": {
      "text/plain": [
       "True"
      ]
     },
     "execution_count": 17,
     "metadata": {},
     "output_type": "execute_result"
    }
   ],
   "source": [
    "collection_name = \"labor_law\"\n",
    "create_collection(name=collection_name)"
   ]
  },
  {
   "cell_type": "code",
   "execution_count": 18,
   "metadata": {},
   "outputs": [
    {
     "data": {
      "text/plain": [
       "UpdateResult(operation_id=0, status=<UpdateStatus.COMPLETED: 'completed'>)"
      ]
     },
     "execution_count": 18,
     "metadata": {},
     "output_type": "execute_result"
    }
   ],
   "source": [
    "upsert(collection=collection_name, points=points)"
   ]
  },
  {
   "cell_type": "code",
   "execution_count": 19,
   "metadata": {},
   "outputs": [
    {
     "data": {
      "text/plain": [
       "{'status': <CollectionStatus.GREEN: 'green'>,\n",
       " 'optimizer_status': <OptimizersStatusOneOf.OK: 'ok'>,\n",
       " 'vectors_count': 313,\n",
       " 'indexed_vectors_count': 0,\n",
       " 'points_count': 313,\n",
       " 'segments_count': 2,\n",
       " 'config': {'params': {'vectors': {'size': 1536,\n",
       "    'distance': <Distance.COSINE: 'Cosine'>,\n",
       "    'hnsw_config': None,\n",
       "    'quantization_config': None,\n",
       "    'on_disk': None},\n",
       "   'shard_number': 1,\n",
       "   'sharding_method': None,\n",
       "   'replication_factor': 1,\n",
       "   'write_consistency_factor': 1,\n",
       "   'read_fan_out_factor': None,\n",
       "   'on_disk_payload': True,\n",
       "   'sparse_vectors': None},\n",
       "  'hnsw_config': {'m': 16,\n",
       "   'ef_construct': 100,\n",
       "   'full_scan_threshold': 10000,\n",
       "   'max_indexing_threads': 0,\n",
       "   'on_disk': False,\n",
       "   'payload_m': None},\n",
       "  'optimizer_config': {'deleted_threshold': 0.2,\n",
       "   'vacuum_min_vector_number': 1000,\n",
       "   'default_segment_number': 0,\n",
       "   'max_segment_size': None,\n",
       "   'memmap_threshold': None,\n",
       "   'indexing_threshold': 20000,\n",
       "   'flush_interval_sec': 5,\n",
       "   'max_optimization_threads': None},\n",
       "  'wal_config': {'wal_capacity_mb': 32, 'wal_segments_ahead': 0},\n",
       "  'quantization_config': None},\n",
       " 'payload_schema': {}}"
      ]
     },
     "execution_count": 19,
     "metadata": {},
     "output_type": "execute_result"
    }
   ],
   "source": [
    "get_collection_info(collection=collection_name)"
   ]
  },
  {
   "cell_type": "code",
   "execution_count": 20,
   "metadata": {},
   "outputs": [
    {
     "data": {
      "text/plain": [
       "313"
      ]
     },
     "execution_count": 20,
     "metadata": {},
     "output_type": "execute_result"
    }
   ],
   "source": [
    "get_count(collection=collection_name)"
   ]
  },
  {
   "cell_type": "markdown",
   "metadata": {},
   "source": [
    "# Search the Vector database "
   ]
  },
  {
   "cell_type": "code",
   "execution_count": 32,
   "metadata": {},
   "outputs": [],
   "source": [
    "path_to_tests = Path(\"./test_queries.json\")\n",
    "with open(path_to_tests, \"r\", encoding=\"utf-8\") as file:\n",
    "    test_samples = json.loads(file.read())"
   ]
  },
  {
   "cell_type": "code",
   "execution_count": 34,
   "metadata": {},
   "outputs": [
    {
     "data": {
      "text/plain": [
       "[{'query': 'Koliko dana godišnjeg odmora zaposleni u Srbiji ima po zakonu?',\n",
       "  'answer': 'U kalendarskoj godini zaposleni ima pravo na godišnji odmor u trajanju utvrđenom opštim aktom i ugovorom o radu, a najmanje 20 radnih dana.'},\n",
       " {'query': 'Da li maloletno lice može zasnovati radni odnos?',\n",
       "  'answer': 'Može, ako ima preko 15 godina, ali samo na poslovima koji ne ugrožavaju zdravlje, moral i obrazovanje maloletnika, na osnovu nalaza zdravstvenog organa kojim se utvrđuje da je sposobno za obavljanje poslova i da takvi poslovi nisu štetni za zdravlje maloletnika, uz pisanu saglasnost roditelja, usvojioca ili staraoca maloletnika.'},\n",
       " {'query': 'Da li zaposleni ima pravo na veću zaradu ukoliko radi na neradni dan?',\n",
       "  'answer': 'Zaposleni ima pravo na uvećanje zarade za rad tokom praznika koji se slavi neradno - u kom slučaju ostvaruje pravo na najmanje 110% ugovorene osnovne zarade, ako radi noću - kad ima pravo na najmanje 26% od ugovorene osnovne zarade, ili prekovremeno - kad takođe ima pravo na najmanje 26% od ugovorene osnovne zarade.'},\n",
       " {'query': 'Koliko traje porodiljsko odsustvo?',\n",
       "  'answer': '365 dana za prvo i drugo dete, a dve godine za treće i svako naredno dete.'},\n",
       " {'query': 'Da li zabrana konkurencije može trajati i nakon prestanka radnog odnosa?',\n",
       "  'answer': 'Može, ali ne duže od dve godine i pod uslovom da poslodavac zaposlenom isplaćuje novčanu naknadu tokom tog perioda.'},\n",
       " {'query': 'Koji je otkazni rok ako zaposleni otkaže ugovor o radu?',\n",
       "  'answer': 'Najmanje 15 dana, ukoliko nije produžen opštim aktom poslodavca, ali ni u tom slučaju ne može biti duži od 30 dana.'}]"
      ]
     },
     "execution_count": 34,
     "metadata": {},
     "output_type": "execute_result"
    }
   ],
   "source": [
    "test_samples[\"hard\"]"
   ]
  },
  {
   "cell_type": "markdown",
   "metadata": {},
   "source": [
    "Get embeddings for tests"
   ]
  },
  {
   "cell_type": "code",
   "execution_count": 36,
   "metadata": {},
   "outputs": [],
   "source": [
    "for level in test_samples.keys():\n",
    "    for i, sample in enumerate(test_samples[level]):\n",
    "        response = embed_text(text=sample[\"query\"])\n",
    "        embedding = response.data[0].embedding\n",
    "        test_samples[level][i][\"embedding\"] = embedding"
   ]
  },
  {
   "cell_type": "markdown",
   "metadata": {},
   "source": [
    "Save tests with embeddings"
   ]
  },
  {
   "cell_type": "code",
   "execution_count": 44,
   "metadata": {},
   "outputs": [],
   "source": [
    "with open(path_to_tests, \"w\", encoding=\"utf-8\") as file:\n",
    "    file.write(json.dumps(test_samples, indent=4))"
   ]
  },
  {
   "cell_type": "code",
   "execution_count": 41,
   "metadata": {},
   "outputs": [
    {
     "data": {
      "text/plain": [
       "'Koliko traje porodiljsko odsustvo?'"
      ]
     },
     "execution_count": 41,
     "metadata": {},
     "output_type": "execute_result"
    }
   ],
   "source": [
    "query = test_samples[\"hard\"][3][\"query\"]\n",
    "embedding = test_samples[\"hard\"][3][\"embedding\"]\n",
    "query"
   ]
  },
  {
   "cell_type": "code",
   "execution_count": 42,
   "metadata": {},
   "outputs": [],
   "source": [
    "response = search(collection=collection_name, query_vector=embedding, with_vectors=True)"
   ]
  },
  {
   "cell_type": "code",
   "execution_count": 43,
   "metadata": {},
   "outputs": [
    {
     "name": "stdout",
     "output_type": "stream",
     "text": [
      "[{'link': 'https://www.paragraf.rs/propisi/zakon_o_radu.html#clan_94',\n",
      "  'text': 'Član 94. Zaposlena žena ima pravo na odsustvo sa rada zbog trudnoće '\n",
      "          'i porođaja (u daljem tekstu: porodiljsko odsustvo), kao i odsustvo '\n",
      "          'sa rada radi nege deteta, u ukupnom trajanju od 365 dana. Zaposlena '\n",
      "          'žena ima pravo da otpočne porodiljsko odsustvo na osnovu nalaza '\n",
      "          'nadležnog zdravstvenog organa najranije 45 dana, a obavezno 28 dana '\n",
      "          'pre vremena određenog za porođaj. Porodiljsko odsustvo traje do '\n",
      "          'navršena tri meseca od dana porođaja. Zaposlena žena, po isteku '\n",
      "          'porodiljskog odsustva, ima pravo na odsustvo sa rada radi nege '\n",
      "          'deteta do isteka 365 dana od dana otpočinjanja porodiljskog '\n",
      "          'odsustva iz stava 2. ovog člana. Otac deteta može da koristi pravo '\n",
      "          'iz stava 3. ovog člana u slučaju kad majka napusti dete, umre ili '\n",
      "          'je iz drugih opravdanih razloga sprečena da koristi to pravo '\n",
      "          '(izdržavanje kazne zatvora, teža bolest i dr.). To pravo otac '\n",
      "          'deteta ima i kada majka nije u radnom odnosu. Otac deteta može da '\n",
      "          'koristi pravo iz stava 4. ovog člana. Za vreme porodiljskog '\n",
      "          'odsustva i odsustva sa rada radi nege deteta zaposlena žena, '\n",
      "          'odnosno otac deteta, ima pravo na naknadu zarade, u skladu sa '\n",
      "          'zakonom.',\n",
      "  'title': 'Član 94'},\n",
      " {'link': 'https://www.paragraf.rs/propisi/zakon_o_radu.html#clan_94a',\n",
      "  'text': 'Član 94a. Zaposlena žena ima pravo na porodiljsko odsustvo i pravo '\n",
      "          'na odsustvo sa rada radi nege deteta za treće i svako naredno '\n",
      "          'novorođeno dete u ukupnom trajanju od dve godine. Pravo na '\n",
      "          'porodiljsko odsustvo i odsustvo sa rada radi nege deteta u ukupnom '\n",
      "          'trajanju od dve godine ima i zaposlena žena koja u prvom porođaju '\n",
      "          'rodi troje ili više dece, kao i zaposlena žena koja je rodila '\n",
      "          'jedno, dvoje ili troje dece a u narednom porođaju rodi dvoje ili '\n",
      "          'više dece. Zaposlena žena iz st. 1. i 2. ovog člana, po isteku '\n",
      "          'porodiljskog odsustva, ima pravo na odsustvo sa rada radi nege '\n",
      "          'deteta do isteka dve godine od dana otpočinjanja porodiljskog '\n",
      "          'odsustva iz člana 94. stav 2. ovog zakona. Otac deteta iz st. 1. i '\n",
      "          '2. ovog člana može da koristi pravo na porodiljsko odsustvo u '\n",
      "          'slučajevima i pod uslovima utvrđenim u članu 94. stav 5. ovog '\n",
      "          'zakona, a pravo na odsustvo sa rada radi nege deteta u dužini '\n",
      "          'utvrđenoj u stavu 3. ovog člana.',\n",
      "  'title': 'Član 94a'},\n",
      " {'link': 'https://www.paragraf.rs/propisi/zakon_o_radu.html#clan_95',\n",
      "  'text': 'Član 95. Pravo da koristi porodiljsko odsustvo u trajanju utvrđenom '\n",
      "          'u članu 94. stav 3. ovog zakona ima i zaposlena žena ako se dete '\n",
      "          'rodi mrtvo ili umre pre isteka porodiljskog odsustva.',\n",
      "  'title': 'Član 95'},\n",
      " {'link': 'https://www.paragraf.rs/propisi/zakon_o_radu.html#clan_187',\n",
      "  'text': 'Član 187. Za vreme trudnoće, porodiljskog odsustva, odsustva sa '\n",
      "          'rada radi nege deteta i odsustva sa rada radi posebne nege deteta '\n",
      "          'poslodavac ne može zaposlenom da otkaže ugovor o radu. Zaposlenom '\n",
      "          'iz stava 1. ovog člana rok za koji je ugovorom zasnovao radni odnos '\n",
      "          'na određeno vreme produžava se do isteka korišćenja prava na '\n",
      "          'odsustvo. Rešenje o otkazu ugovora o radu ništavo je ako je na dan '\n",
      "          'donošenja rešenja o otkazu ugovora o radu poslodavcu bilo poznato '\n",
      "          'postojanje okolnosti iz stava 1. ovog člana ili ako zaposleni u '\n",
      "          'roku od 30 dana od dana prestanka radnog odnosa obavesti poslodavca '\n",
      "          'o postojanju okolnosti iz stava 1. ovog člana i o tome dostavi '\n",
      "          'odgovarajuću potvrdu ovlašćenog lekara ili drugog nadležnog organa.',\n",
      "  'title': 'Član 187'},\n",
      " {'link': 'https://www.paragraf.rs/propisi/zakon_o_radu.html#clan_11%5Bs1%5D',\n",
      "  'text': 'Član 11[s1]. Zaposlena žena koja je započela korišćenje '\n",
      "          'porodiljskog odsustva u skladu sa članom 94. Zakona o radu '\n",
      "          '(\"Službeni glasnik RS\", broj 24/05) do dana stupanja na snagu ovog '\n",
      "          'zakona - nastavlja da koristi pravo na porodiljsko odsustvo i '\n",
      "          'odsustvo sa rada radi nege deteta u skladu sa odredbama tog člana. '\n",
      "          'Pravo iz stava 1. ovog člana pripada i ocu deteta.',\n",
      "  'title': 'Član 11[s1]'},\n",
      " {'link': 'https://www.paragraf.rs/propisi/zakon_o_radu.html#clan_77',\n",
      "  'text': 'Član 77. Zaposleni ima pravo na odsustvo sa rada uz naknadu zarade '\n",
      "          '(plaćeno odsustvo) u ukupnom trajanju do pet radnih dana u toku '\n",
      "          'kalendarske godine, u slučaju sklapanja braka, porođaja supruge, '\n",
      "          'teže bolesti člana uže porodice i u drugim slučajevima utvrđenim '\n",
      "          'opštim aktom i ugovorom o radu. Vreme trajanja plaćenog odsustva iz '\n",
      "          'stava 1. ovog člana utvrđuje se opštim aktom i ugovorom o radu. '\n",
      "          'Pored prava na odsustvo iz stava 1. ovog člana zaposleni ima pravo '\n",
      "          'na plaćeno odsustvo još: 1) pet radnih dana zbog smrti člana uže '\n",
      "          'porodice; 2) dva uzastopna dana za svaki slučaj dobrovoljnog '\n",
      "          'davanja krvi računajući i dan davanja krvi. Članovima uže porodice '\n",
      "          'u smislu st. 1. i 3. ovog člana smatraju se bračni drug, deca, '\n",
      "          'braća, sestre, roditelji, usvojilac, usvojenik i staratelj. '\n",
      "          'Poslodavac može da odobri zaposlenom odsustvo iz st. 1. i 3. ovog '\n",
      "          'člana za srodnike koji nisu navedeni u stavu 4. ovog člana i za '\n",
      "          'druga lica koja žive u zajedničkom porodičnom domaćinstvu sa '\n",
      "          'zaposlenim, u trajanju utvrđenom rešenjem poslodavca. Opštim aktom '\n",
      "          'i ugovorom o radu može da se utvrdi pravo na plaćeno odsustvo u '\n",
      "          'trajanju dužem od trajanja utvrđenog, u smislu st. 1. i 3. ovog '\n",
      "          'člana, odnosno širi krug lica iz stava 4. ovog člana.',\n",
      "  'title': 'Član 77'},\n",
      " {'link': 'https://www.paragraf.rs/propisi/zakon_o_radu.html#clan_96',\n",
      "  'text': 'Član 96. Jedan od roditelja deteta kome je neophodna posebna nega '\n",
      "          'zbog teškog stepena psihofizičke ometenosti, osim za slučajeve '\n",
      "          'predviđene propisima o zdravstvenom osiguranju, ima pravo da, po '\n",
      "          'isteku porodiljskog odsustva i odsustva sa rada radi nege deteta, '\n",
      "          'odsustvuje sa rada ili da radi sa polovinom punog radnog vremena, '\n",
      "          'najduže do navršenih pet godina života deteta. Pravo u smislu stava '\n",
      "          '1. ovog člana ostvaruje se na osnovu mišljenja nadležnog organa za '\n",
      "          'ocenu stepena psihofizičke ometenosti deteta, u skladu sa zakonom. '\n",
      "          'Za vreme odsustvovanja sa rada, u smislu stava 1. ovog člana, '\n",
      "          'zaposleni ima pravo na naknadu zarade, u skladu sa zakonom. Za '\n",
      "          'vreme rada sa polovinom punog radnog vremena, u smislu stava 1. '\n",
      "          'ovog člana, zaposleni ima pravo na zaradu u skladu sa zakonom, '\n",
      "          'opštim aktom i ugovorom o radu, a za drugu polovinu punog radnog '\n",
      "          'vremena - naknadu zarade u skladu sa zakonom. Uslove, postupak i '\n",
      "          'način ostvarivanja prava na odsustvo sa rada radi posebne nege '\n",
      "          'deteta bliže uređuje ministar nadležan za društvenu brigu o deci.',\n",
      "  'title': 'Član 96'},\n",
      " {'link': 'https://www.paragraf.rs/propisi/zakon_o_radu.html#clan_97',\n",
      "  'text': 'Član 97. Hranitelj, odnosno staratelj deteta mlađeg od pet godina '\n",
      "          'života ima pravo da, radi nege deteta, odsustvuje sa rada osam '\n",
      "          'meseci neprekidno od dana smeštaja deteta u hraniteljsku, odnosno '\n",
      "          'starateljsku porodicu, a najduže do navršenih pet godina života '\n",
      "          'deteta. Ako je smeštaj u hraniteljsku, odnosno starateljsku '\n",
      "          'porodicu nastupio pre navršena tri meseca života deteta, hranitelj, '\n",
      "          'odnosno staratelj deteta ima pravo da, radi nege deteta, odsustvuje '\n",
      "          'sa rada do navršenih 11 meseci života deteta. Pravo iz st. 1. i 2. '\n",
      "          'ovog člana ima i lice kome je, u skladu sa propisima o usvojenju, '\n",
      "          'upućeno dete na prilagođavanje pre zasnivanja usvojenja, a po '\n",
      "          'zasnivanju usvojenja - i jedan od usvojilaca. Za vreme odsustva sa '\n",
      "          'rada radi nege deteta, lice koje koristi pravo iz st. 1-3. ovog '\n",
      "          'člana ima pravo na naknadu zarade u skladu sa zakonom.',\n",
      "  'title': 'Član 97'},\n",
      " {'link': 'https://www.paragraf.rs/propisi/zakon_o_radu.html#clan_93a',\n",
      "  'text': 'Član 93a. Poslodavac je dužan da zaposlenoj ženi, koja se vrati na '\n",
      "          'rad pre isteka godinu dana od rođenja deteta, obezbedi pravo na '\n",
      "          'jednu ili više dnevnih pauza u toku dnevnog rada u ukupnom trajanju '\n",
      "          'od 90 minuta ili na skraćenje dnevnog radnog vremena u trajanju od '\n",
      "          '90 minuta, kako bi mogla da doji svoje dete, ako dnevno radno vreme '\n",
      "          'zaposlene žene iznosi šest i više časova. Pauza ili skraćeno radno '\n",
      "          'vreme iz stava 1. ovog člana računaju se u radno vreme, a naknada '\n",
      "          'zaposlenoj po tom osnovu isplaćuje se u visini osnovne zarade, '\n",
      "          'uvećane za minuli rad. ',\n",
      "  'title': 'Član 93a'},\n",
      " {'link': 'https://www.paragraf.rs/propisi/zakon_o_radu.html#clan_78',\n",
      "  'text': 'Član 78. Poslodavac može zaposlenom da odobri odsustvo bez naknade '\n",
      "          'zarade (neplaćeno odsustvo). Za vreme neplaćenog odsustva '\n",
      "          'zaposlenom miruju prava i obaveze iz radnog odnosa, ako za pojedina '\n",
      "          'prava i obaveze zakonom, opštim aktom i ugovorom o radu nije '\n",
      "          'drukčije određeno.',\n",
      "  'title': 'Član 78'}]\n"
     ]
    }
   ],
   "source": [
    "pprint([point.payload for point in response])"
   ]
  },
  {
   "cell_type": "code",
   "execution_count": null,
   "metadata": {},
   "outputs": [],
   "source": []
  }
 ],
 "metadata": {
  "kernelspec": {
   "display_name": "venv",
   "language": "python",
   "name": "python3"
  },
  "language_info": {
   "codemirror_mode": {
    "name": "ipython",
    "version": 3
   },
   "file_extension": ".py",
   "mimetype": "text/x-python",
   "name": "python",
   "nbconvert_exporter": "python",
   "pygments_lexer": "ipython3",
   "version": "3.10.13"
  }
 },
 "nbformat": 4,
 "nbformat_minor": 2
}
