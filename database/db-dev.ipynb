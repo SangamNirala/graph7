{
 "cells": [
  {
   "cell_type": "code",
   "execution_count": 87,
   "metadata": {},
   "outputs": [
    {
     "data": {
      "text/plain": [
       "True"
      ]
     },
     "execution_count": 87,
     "metadata": {},
     "output_type": "execute_result"
    }
   ],
   "source": [
    "import json\n",
    "import os\n",
    "from pprint import pprint\n",
    "\n",
    "import tiktoken\n",
    "from config import EMBEDDING_MODEL\n",
    "from dotenv import find_dotenv, load_dotenv\n",
    "from qdrant_client.http.models import PointStruct\n",
    "from utils import create_collection, get_collection_info, get_count, upsert, search\n",
    "\n",
    "load_dotenv(find_dotenv())"
   ]
  },
  {
   "cell_type": "code",
   "execution_count": 39,
   "metadata": {},
   "outputs": [],
   "source": [
    "raw_data_path = \"../scraper/srb_labor_law_data.json\""
   ]
  },
  {
   "cell_type": "code",
   "execution_count": 84,
   "metadata": {},
   "outputs": [],
   "source": [
    "with open(raw_data_path, \"r\", encoding=\"utf-8\") as file:\n",
    "    raw_data = json.loads(file.read())"
   ]
  },
  {
   "cell_type": "markdown",
   "metadata": {},
   "source": [
    "## Embedd data"
   ]
  },
  {
   "cell_type": "markdown",
   "metadata": {},
   "source": [
    "Create JSONL for parallel embedding"
   ]
  },
  {
   "cell_type": "code",
   "execution_count": 42,
   "metadata": {},
   "outputs": [],
   "source": [
    "filename = \"./requests_to_parallel_process.jsonl\"\n",
    "jobs = [\n",
    "    {\n",
    "        \"model\": EMBEDDING_MODEL,\n",
    "        \"input\": \". \".join([sample[\"title\"], \" \".join(sample[\"texts\"])]),\n",
    "    }\n",
    "    for sample in raw_data\n",
    "]\n",
    "with open(filename, \"w\") as f:\n",
    "    for job in jobs:\n",
    "        json_string = json.dumps(job)\n",
    "        f.write(json_string + \"\\n\")"
   ]
  },
  {
   "cell_type": "code",
   "execution_count": 44,
   "metadata": {},
   "outputs": [
    {
     "name": "stdout",
     "output_type": "stream",
     "text": [
      "INFO:root:Starting request #0\n",
      "INFO:root:Starting request #1\n",
      "INFO:root:Starting request #2\n",
      "INFO:root:Starting request #3\n",
      "INFO:root:Starting request #4\n",
      "INFO:root:Starting request #5\n",
      "INFO:root:Starting request #6\n",
      "INFO:root:Starting request #7\n",
      "INFO:root:Starting request #8\n",
      "INFO:root:Starting request #9\n",
      "INFO:root:Starting request #10\n",
      "INFO:root:Starting request #11\n",
      "INFO:root:Starting request #12\n",
      "INFO:root:Starting request #13\n",
      "INFO:root:Starting request #14\n",
      "INFO:root:Starting request #15\n",
      "INFO:root:Starting request #16\n",
      "INFO:root:Starting request #17\n",
      "INFO:root:Starting request #18\n",
      "INFO:root:Starting request #19\n",
      "INFO:root:Starting request #20\n",
      "INFO:root:Starting request #21\n",
      "INFO:root:Starting request #22\n",
      "INFO:root:Starting request #23\n",
      "INFO:root:Starting request #24\n",
      "INFO:root:Starting request #25\n",
      "INFO:root:Starting request #26\n",
      "INFO:root:Starting request #27\n",
      "INFO:root:Starting request #28\n",
      "INFO:root:Starting request #29\n",
      "INFO:root:Starting request #30\n",
      "INFO:root:Starting request #31\n",
      "INFO:root:Starting request #32\n",
      "INFO:root:Starting request #33\n",
      "INFO:root:Starting request #34\n",
      "INFO:root:Starting request #35\n",
      "INFO:root:Starting request #36\n",
      "INFO:root:Starting request #37\n",
      "INFO:root:Starting request #38\n",
      "INFO:root:Starting request #39\n",
      "INFO:root:Starting request #40\n",
      "INFO:root:Starting request #41\n",
      "INFO:root:Starting request #42\n",
      "INFO:root:Starting request #43\n",
      "INFO:root:Starting request #44\n",
      "INFO:root:Starting request #45\n",
      "INFO:root:Starting request #46\n",
      "INFO:root:Starting request #47\n",
      "INFO:root:Starting request #48\n",
      "INFO:root:Starting request #49\n",
      "INFO:root:Starting request #50\n",
      "INFO:root:Starting request #51\n",
      "INFO:root:Starting request #52\n",
      "INFO:root:Starting request #53\n",
      "INFO:root:Starting request #54\n",
      "INFO:root:Starting request #55\n",
      "INFO:root:Starting request #56\n",
      "INFO:root:Starting request #57\n",
      "INFO:root:Starting request #58\n",
      "INFO:root:Starting request #59\n",
      "INFO:root:Starting request #60\n",
      "INFO:root:Starting request #61\n",
      "INFO:root:Starting request #62\n",
      "INFO:root:Starting request #63\n",
      "INFO:root:Starting request #64\n",
      "INFO:root:Starting request #65\n",
      "INFO:root:Starting request #66\n",
      "INFO:root:Starting request #67\n",
      "INFO:root:Starting request #68\n",
      "INFO:root:Starting request #69\n",
      "INFO:root:Starting request #70\n",
      "INFO:root:Starting request #71\n",
      "INFO:root:Starting request #72\n",
      "INFO:root:Starting request #73\n",
      "INFO:root:Starting request #74\n",
      "INFO:root:Starting request #75\n",
      "INFO:root:Starting request #76\n",
      "INFO:root:Starting request #77\n",
      "INFO:root:Starting request #78\n",
      "INFO:root:Starting request #79\n",
      "INFO:root:Starting request #80\n",
      "INFO:root:Starting request #81\n",
      "INFO:root:Starting request #82\n",
      "INFO:root:Starting request #83\n",
      "INFO:root:Starting request #84\n",
      "INFO:root:Starting request #85\n",
      "INFO:root:Starting request #86\n",
      "INFO:root:Starting request #87\n",
      "INFO:root:Starting request #88\n",
      "INFO:root:Starting request #89\n",
      "INFO:root:Starting request #90\n",
      "INFO:root:Starting request #91\n",
      "INFO:root:Starting request #92\n",
      "INFO:root:Starting request #93\n",
      "INFO:root:Starting request #94\n",
      "INFO:root:Starting request #95\n",
      "INFO:root:Starting request #96\n",
      "INFO:root:Starting request #97\n",
      "INFO:root:Starting request #98\n",
      "INFO:root:Starting request #99\n",
      "INFO:root:Starting request #100\n",
      "INFO:root:Starting request #101\n",
      "INFO:root:Starting request #102\n",
      "INFO:root:Starting request #103\n",
      "INFO:root:Starting request #104\n",
      "INFO:root:Starting request #105\n",
      "INFO:root:Starting request #106\n",
      "INFO:root:Starting request #107\n",
      "INFO:root:Starting request #108\n",
      "INFO:root:Starting request #109\n",
      "INFO:root:Starting request #110\n",
      "INFO:root:Starting request #111\n",
      "INFO:root:Starting request #112\n",
      "INFO:root:Starting request #113\n",
      "INFO:root:Starting request #114\n",
      "INFO:root:Starting request #115\n",
      "INFO:root:Starting request #116\n",
      "INFO:root:Starting request #117\n",
      "INFO:root:Starting request #118\n",
      "INFO:root:Starting request #119\n",
      "INFO:root:Starting request #120\n",
      "INFO:root:Starting request #121\n",
      "INFO:root:Starting request #122\n",
      "INFO:root:Starting request #123\n",
      "INFO:root:Starting request #124\n",
      "INFO:root:Starting request #125\n",
      "INFO:root:Starting request #126\n",
      "INFO:root:Starting request #127\n",
      "INFO:root:Starting request #128\n",
      "INFO:root:Starting request #129\n",
      "INFO:root:Starting request #130\n",
      "INFO:root:Starting request #131\n",
      "INFO:root:Starting request #132\n",
      "INFO:root:Starting request #133\n",
      "INFO:root:Starting request #134\n",
      "INFO:root:Starting request #135\n",
      "INFO:root:Starting request #136\n",
      "INFO:root:Starting request #137\n",
      "INFO:root:Starting request #138\n",
      "INFO:root:Starting request #139\n",
      "INFO:root:Starting request #140\n",
      "INFO:root:Starting request #141\n",
      "INFO:root:Starting request #142\n",
      "INFO:root:Starting request #143\n",
      "INFO:root:Starting request #144\n",
      "INFO:root:Starting request #145\n",
      "INFO:root:Starting request #146\n",
      "INFO:root:Starting request #147\n",
      "INFO:root:Starting request #148\n",
      "INFO:root:Starting request #149\n",
      "INFO:root:Starting request #150\n",
      "INFO:root:Starting request #151\n",
      "INFO:root:Starting request #152\n",
      "INFO:root:Starting request #153\n",
      "INFO:root:Starting request #154\n",
      "INFO:root:Starting request #155\n",
      "INFO:root:Starting request #156\n",
      "INFO:root:Starting request #157\n",
      "INFO:root:Starting request #158\n",
      "INFO:root:Starting request #159\n",
      "INFO:root:Starting request #160\n",
      "INFO:root:Starting request #161\n",
      "INFO:root:Starting request #162\n",
      "INFO:root:Starting request #163\n",
      "INFO:root:Starting request #164\n",
      "INFO:root:Starting request #165\n",
      "INFO:root:Starting request #166\n",
      "INFO:root:Starting request #167\n",
      "INFO:root:Starting request #168\n",
      "INFO:root:Starting request #169\n",
      "INFO:root:Starting request #170\n",
      "INFO:root:Starting request #171\n",
      "INFO:root:Starting request #172\n",
      "INFO:root:Starting request #173\n",
      "INFO:root:Starting request #174\n",
      "INFO:root:Starting request #175\n",
      "INFO:root:Starting request #176\n",
      "INFO:root:Starting request #177\n",
      "INFO:root:Starting request #178\n",
      "INFO:root:Starting request #179\n",
      "INFO:root:Starting request #180\n",
      "INFO:root:Starting request #181\n",
      "INFO:root:Starting request #182\n",
      "INFO:root:Starting request #183\n",
      "INFO:root:Starting request #184\n",
      "INFO:root:Starting request #185\n",
      "INFO:root:Starting request #186\n",
      "INFO:root:Starting request #187\n",
      "INFO:root:Starting request #188\n",
      "INFO:root:Starting request #189\n",
      "INFO:root:Starting request #190\n",
      "INFO:root:Starting request #191\n",
      "INFO:root:Starting request #192\n",
      "INFO:root:Starting request #193\n",
      "INFO:root:Starting request #194\n",
      "INFO:root:Starting request #195\n",
      "INFO:root:Starting request #196\n",
      "INFO:root:Starting request #197\n",
      "INFO:root:Starting request #198\n",
      "INFO:root:Starting request #199\n",
      "INFO:root:Starting request #200\n",
      "INFO:root:Starting request #201\n",
      "INFO:root:Starting request #202\n",
      "INFO:root:Starting request #203\n",
      "INFO:root:Starting request #204\n",
      "INFO:root:Starting request #205\n",
      "INFO:root:Starting request #206\n",
      "INFO:root:Starting request #207\n",
      "INFO:root:Starting request #208\n",
      "INFO:root:Starting request #209\n",
      "INFO:root:Starting request #210\n",
      "INFO:root:Starting request #211\n",
      "INFO:root:Starting request #212\n",
      "INFO:root:Starting request #213\n",
      "INFO:root:Starting request #214\n",
      "INFO:root:Starting request #215\n",
      "INFO:root:Starting request #216\n",
      "INFO:root:Starting request #217\n",
      "INFO:root:Starting request #218\n",
      "INFO:root:Starting request #219\n",
      "INFO:root:Starting request #220\n",
      "INFO:root:Starting request #221\n",
      "INFO:root:Starting request #222\n",
      "INFO:root:Starting request #223\n",
      "INFO:root:Starting request #224\n",
      "INFO:root:Starting request #225\n",
      "INFO:root:Starting request #226\n",
      "INFO:root:Starting request #227\n",
      "INFO:root:Starting request #228\n",
      "INFO:root:Starting request #229\n",
      "INFO:root:Starting request #230\n",
      "INFO:root:Starting request #231\n",
      "INFO:root:Starting request #232\n",
      "INFO:root:Starting request #233\n",
      "INFO:root:Starting request #234\n",
      "INFO:root:Starting request #235\n",
      "INFO:root:Starting request #236\n",
      "INFO:root:Starting request #237\n",
      "INFO:root:Starting request #238\n",
      "INFO:root:Starting request #239\n",
      "INFO:root:Starting request #240\n",
      "INFO:root:Starting request #241\n",
      "INFO:root:Starting request #242\n",
      "INFO:root:Starting request #243\n",
      "INFO:root:Starting request #244\n",
      "INFO:root:Starting request #245\n",
      "INFO:root:Starting request #246\n",
      "INFO:root:Starting request #247\n",
      "INFO:root:Starting request #248\n",
      "INFO:root:Starting request #249\n",
      "INFO:root:Starting request #250\n",
      "INFO:root:Starting request #251\n",
      "INFO:root:Starting request #252\n",
      "INFO:root:Starting request #253\n",
      "INFO:root:Starting request #254\n",
      "INFO:root:Starting request #255\n",
      "INFO:root:Starting request #256\n",
      "INFO:root:Starting request #257\n",
      "INFO:root:Starting request #258\n",
      "INFO:root:Starting request #259\n",
      "INFO:root:Starting request #260\n",
      "INFO:root:Starting request #261\n",
      "INFO:root:Starting request #262\n",
      "INFO:root:Starting request #263\n",
      "INFO:root:Starting request #264\n",
      "INFO:root:Starting request #265\n",
      "INFO:root:Starting request #266\n",
      "INFO:root:Starting request #267\n",
      "INFO:root:Starting request #268\n",
      "INFO:root:Starting request #269\n",
      "INFO:root:Starting request #270\n",
      "INFO:root:Starting request #271\n",
      "INFO:root:Starting request #272\n",
      "INFO:root:Starting request #273\n",
      "INFO:root:Starting request #274\n",
      "INFO:root:Starting request #275\n",
      "INFO:root:Starting request #276\n",
      "INFO:root:Starting request #277\n",
      "INFO:root:Starting request #278\n",
      "INFO:root:Starting request #279\n",
      "INFO:root:Starting request #280\n",
      "INFO:root:Starting request #281\n",
      "INFO:root:Starting request #282\n",
      "INFO:root:Starting request #283\n",
      "INFO:root:Starting request #284\n",
      "INFO:root:Starting request #285\n",
      "INFO:root:Starting request #286\n",
      "INFO:root:Starting request #287\n",
      "INFO:root:Starting request #288\n",
      "INFO:root:Starting request #289\n",
      "INFO:root:Starting request #290\n",
      "INFO:root:Starting request #291\n",
      "INFO:root:Starting request #292\n",
      "INFO:root:Starting request #293\n",
      "INFO:root:Starting request #294\n",
      "INFO:root:Starting request #295\n",
      "INFO:root:Starting request #296\n",
      "INFO:root:Starting request #297\n",
      "INFO:root:Starting request #298\n",
      "INFO:root:Starting request #299\n",
      "INFO:root:Starting request #300\n",
      "INFO:root:Starting request #301\n",
      "INFO:root:Starting request #302\n",
      "INFO:root:Starting request #303\n",
      "INFO:root:Starting request #304\n",
      "INFO:root:Starting request #305\n",
      "INFO:root:Starting request #306\n",
      "INFO:root:Starting request #307\n",
      "INFO:root:Starting request #308\n",
      "INFO:root:Starting request #309\n",
      "INFO:root:Starting request #310\n",
      "INFO:root:Starting request #311\n",
      "INFO:root:Starting request #312\n",
      "INFO:root:Parallel processing complete. Results saved to requests_to_parallel_process_results.jsonl\n"
     ]
    }
   ],
   "source": [
    "! python api_request_parallel_processor.py \\\n",
    "  --requests_filepath requests_to_parallel_process.jsonl \\\n",
    "  --save_filepath requests_to_parallel_process_results.jsonl \\\n",
    "  --request_url https://api.openai.com/v1/embeddings \\\n",
    "  --max_requests_per_minute 2500 \\\n",
    "  --max_tokens_per_minute 900000 \\\n",
    "  --token_encoding_name cl100k_base \\\n",
    "  --max_attempts 5 \\\n",
    "  --logging_level 20"
   ]
  },
  {
   "cell_type": "markdown",
   "metadata": {},
   "source": [
    "Create PointStructures for Qdrant database"
   ]
  },
  {
   "cell_type": "code",
   "execution_count": 68,
   "metadata": {},
   "outputs": [],
   "source": [
    "embeddings_path = \"./requests_to_parallel_process_results.jsonl\"\n",
    "with open(embeddings_path, \"r\", encoding=\"utf-8\") as file:\n",
    "    embeddings = []\n",
    "    for line in file:\n",
    "        embeddings.append(json.loads(line))"
   ]
  },
  {
   "cell_type": "code",
   "execution_count": 79,
   "metadata": {},
   "outputs": [],
   "source": [
    "embeddings_lookup = {}\n",
    "for item in embeddings:\n",
    "    text = item[0][\"input\"]\n",
    "    article_name = text.split(\". \")[0]\n",
    "    embedding = item[1][\"data\"][0][\"embedding\"]\n",
    "    embeddings_lookup[article_name] = {\"embedding\": embedding, \"text\": text}"
   ]
  },
  {
   "cell_type": "code",
   "execution_count": 85,
   "metadata": {},
   "outputs": [],
   "source": [
    "points = []\n",
    "\n",
    "for id, dictionary in enumerate(raw_data):\n",
    "    title = dictionary[\"title\"]\n",
    "    link = dictionary[\"link\"]\n",
    "    if title in embeddings_lookup:\n",
    "        embedding, text = (\n",
    "            embeddings_lookup[title][\"embedding\"],\n",
    "            embeddings_lookup[title][\"text\"],\n",
    "        )\n",
    "        points.append(\n",
    "            PointStruct(\n",
    "                id=id,\n",
    "                vector=embedding,\n",
    "                payload={\"title\": title, \"text\": text, \"link\": link},\n",
    "            )\n",
    "        )\n",
    "    else:\n",
    "        print(\n",
    "            f\"Warning: No embedding found for title '{title}'. This item will be skipped.\"\n",
    "        )"
   ]
  },
  {
   "cell_type": "markdown",
   "metadata": {},
   "source": [
    "# Create Vector database"
   ]
  },
  {
   "cell_type": "code",
   "execution_count": 88,
   "metadata": {},
   "outputs": [
    {
     "name": "stderr",
     "output_type": "stream",
     "text": [
      "\u001b[32m2024-03-21 23:00:43.225\u001b[0m | \u001b[1mINFO    \u001b[0m | \u001b[36mutils\u001b[0m:\u001b[36mcreate_collection\u001b[0m:\u001b[36m30\u001b[0m - \u001b[1mCreating collection: labor_law with vector size: 1536.\u001b[0m\n"
     ]
    },
    {
     "data": {
      "text/plain": [
       "True"
      ]
     },
     "execution_count": 88,
     "metadata": {},
     "output_type": "execute_result"
    }
   ],
   "source": [
    "collection_name = \"labor_law\"\n",
    "create_collection(name=collection_name)"
   ]
  },
  {
   "cell_type": "code",
   "execution_count": 89,
   "metadata": {},
   "outputs": [
    {
     "data": {
      "text/plain": [
       "UpdateResult(operation_id=0, status=<UpdateStatus.COMPLETED: 'completed'>)"
      ]
     },
     "execution_count": 89,
     "metadata": {},
     "output_type": "execute_result"
    }
   ],
   "source": [
    "upsert(collection=collection_name, points=points)"
   ]
  },
  {
   "cell_type": "code",
   "execution_count": 90,
   "metadata": {},
   "outputs": [
    {
     "data": {
      "text/plain": [
       "{'status': <CollectionStatus.GREEN: 'green'>,\n",
       " 'optimizer_status': <OptimizersStatusOneOf.OK: 'ok'>,\n",
       " 'vectors_count': 313,\n",
       " 'indexed_vectors_count': 0,\n",
       " 'points_count': 313,\n",
       " 'segments_count': 2,\n",
       " 'config': {'params': {'vectors': {'size': 1536,\n",
       "    'distance': <Distance.COSINE: 'Cosine'>,\n",
       "    'hnsw_config': None,\n",
       "    'quantization_config': None,\n",
       "    'on_disk': None},\n",
       "   'shard_number': 1,\n",
       "   'sharding_method': None,\n",
       "   'replication_factor': 1,\n",
       "   'write_consistency_factor': 1,\n",
       "   'read_fan_out_factor': None,\n",
       "   'on_disk_payload': True,\n",
       "   'sparse_vectors': None},\n",
       "  'hnsw_config': {'m': 16,\n",
       "   'ef_construct': 100,\n",
       "   'full_scan_threshold': 10000,\n",
       "   'max_indexing_threads': 0,\n",
       "   'on_disk': False,\n",
       "   'payload_m': None},\n",
       "  'optimizer_config': {'deleted_threshold': 0.2,\n",
       "   'vacuum_min_vector_number': 1000,\n",
       "   'default_segment_number': 0,\n",
       "   'max_segment_size': None,\n",
       "   'memmap_threshold': None,\n",
       "   'indexing_threshold': 20000,\n",
       "   'flush_interval_sec': 5,\n",
       "   'max_optimization_threads': None},\n",
       "  'wal_config': {'wal_capacity_mb': 32, 'wal_segments_ahead': 0},\n",
       "  'quantization_config': None},\n",
       " 'payload_schema': {}}"
      ]
     },
     "execution_count": 90,
     "metadata": {},
     "output_type": "execute_result"
    }
   ],
   "source": [
    "get_collection_info(collection=collection_name)"
   ]
  },
  {
   "cell_type": "code",
   "execution_count": 91,
   "metadata": {},
   "outputs": [
    {
     "data": {
      "text/plain": [
       "313"
      ]
     },
     "execution_count": 91,
     "metadata": {},
     "output_type": "execute_result"
    }
   ],
   "source": [
    "get_count(collection=collection_name)"
   ]
  },
  {
   "cell_type": "code",
   "execution_count": null,
   "metadata": {},
   "outputs": [],
   "source": []
  }
 ],
 "metadata": {
  "kernelspec": {
   "display_name": "venv",
   "language": "python",
   "name": "python3"
  },
  "language_info": {
   "codemirror_mode": {
    "name": "ipython",
    "version": 3
   },
   "file_extension": ".py",
   "mimetype": "text/x-python",
   "name": "python",
   "nbconvert_exporter": "python",
   "pygments_lexer": "ipython3",
   "version": "3.10.13"
  }
 },
 "nbformat": 4,
 "nbformat_minor": 2
}
